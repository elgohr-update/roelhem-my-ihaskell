{
 "cells": [
  {
   "cell_type": "markdown",
   "id": "eb095310",
   "metadata": {},
   "source": [
    "# AD Bracketing\n",
    "\n",
    "First, initialise the needed libraries."
   ]
  },
  {
   "cell_type": "code",
   "execution_count": 133,
   "id": "8a319766",
   "metadata": {},
   "outputs": [
    {
     "data": {
      "text/latex": [
       "$F:{\\mathbb{R}}^{15}\\xrightarrow[154]{}{\\mathbb{R}}^{26}$"
      ]
     },
     "metadata": {},
     "output_type": "display_data"
    }
   ],
   "source": [
    "{-# LANGUAGE OverloadedStrings, TypeApplications #-}\n",
    "\n",
    "import Control.Lens\n",
    "import Data.Foldable\n",
    "import Data.Semigroup\n",
    "import Control.Applicative\n",
    "import Math.AD.Data.Bracketing\n",
    "import Math.AD.Real.FuncDescription\n",
    "import Math.AD.Real.FuncChain\n",
    "import Data.Traversable.Enumerate\n",
    "import Text.LaTeX (Texy, texy, LaTeX, (!:), mathsf, math)\n",
    "\n",
    "F (15,26) 154"
   ]
  },
  {
   "cell_type": "code",
   "execution_count": 23,
   "id": "c1a8c5b4",
   "metadata": {},
   "outputs": [
    {
     "data": {
      "text/plain": [
       "240"
      ]
     },
     "metadata": {},
     "output_type": "display_data"
    },
    {
     "data": {
      "text/latex": [
       "$F:{\\mathbb{R}}^{16}\\xrightarrow[336]{}{\\mathbb{R}}^{16}$"
      ]
     },
     "metadata": {},
     "output_type": "display_data"
    },
    {
     "data": {
      "text/latex": [
       "$F:{\\mathbb{R}}^{16}\\xrightarrow[304]{}{\\mathbb{R}}^{16}$"
      ]
     },
     "metadata": {},
     "output_type": "display_data"
    },
    {
     "data": {
      "text/latex": [
       "$F:{\\mathbb{R}}^{16}\\xrightarrow[400]{}{\\mathbb{R}}^{16}$"
      ]
     },
     "metadata": {},
     "output_type": "display_data"
    },
    {
     "data": {
      "text/latex": [
       "$F:{\\mathbb{R}}^{16}\\xrightarrow[368]{}{\\mathbb{R}}^{16}$"
      ]
     },
     "metadata": {},
     "output_type": "display_data"
    },
    {
     "data": {
      "text/latex": [
       "$F:{\\mathbb{R}}^{16}\\xrightarrow[432]{}{\\mathbb{R}}^{16}$"
      ]
     },
     "metadata": {},
     "output_type": "display_data"
    },
    {
     "data": {
      "text/latex": [
       "$F:{\\mathbb{R}}^{16}\\xrightarrow[272]{}{\\mathbb{R}}^{16}$"
      ]
     },
     "metadata": {},
     "output_type": "display_data"
    },
    {
     "data": {
      "text/latex": [
       "$F:{\\mathbb{R}}^{16}\\xrightarrow[400]{}{\\mathbb{R}}^{16}$"
      ]
     },
     "metadata": {},
     "output_type": "display_data"
    }
   ],
   "source": [
    "edgesMatProd :: FuncDescription a => a -> Integer\n",
    "edgesMatProd x = inDim x * outDim x\n",
    "\n",
    "edgesMatProd (F (15,16) 124)\n",
    "\n",
    "fDescFromBase :: FuncDescription a => a -> Integer -> FDesc'\n",
    "fDescFromBase x e = F (inDim x, outDim x) (e * outDim x + edgesMatProd x)\n",
    "\n",
    "fe = 5\n",
    "ge = 3\n",
    "he = 9\n",
    "ie = 7\n",
    "je = 11\n",
    "ke = 1\n",
    "le = 9\n",
    "\n",
    "baseEdges = [fe, ge, he, ie, je, ke, le]\n",
    "\n",
    "zipWith fDescFromBase (replicate (length baseEdges) (F (16,16) 0)) baseEdges\n",
    " "
   ]
  },
  {
   "cell_type": "code",
   "execution_count": 137,
   "id": "caa42d77",
   "metadata": {},
   "outputs": [
    {
     "data": {
      "text/latex": [
       "${\\mathbb{R}}^{16}\\xrightarrow[16]{{F}_{1}}{\\mathbb{R}}^{16}\\xrightarrow[136]{{F}_{2}}{\\mathbb{R}}^{8}\\xrightarrow[76]{{F}_{3}}{\\mathbb{R}}^{4}\\xrightarrow[9]{{F}_{4}}{\\mathbb{R}}^{1}$"
      ]
     },
     "metadata": {},
     "output_type": "display_data"
    }
   ],
   "source": [
    "propDims = DimList [16,8,4,1] :: DimList'\n",
    "\n",
    "inputs = [ke, ke, je, le]\n",
    "\n",
    "fList = zipWith fDescFromBase (init $ descList propDims) (init $ tail inputs)\n",
    "\n",
    "initFDesc = F(16,16) (head inputs * 16) :: FDesc'\n",
    "lDesc = F (4,1) (last inputs) :: FDesc'\n",
    "\n",
    "caseDescList = initFDesc:(fList ++ [lDesc])\n",
    "\n",
    "toFChain caseDescList"
   ]
  },
  {
   "cell_type": "markdown",
   "id": "5c82807a",
   "metadata": {},
   "source": [
    "# Functions on bracketings"
   ]
  },
  {
   "cell_type": "code",
   "execution_count": 69,
   "id": "85a3a104",
   "metadata": {},
   "outputs": [],
   "source": [
    "fmaMatProd :: FuncDescription a => a -> a -> Integer\n",
    "fmaMatProd lhs rhs = inDim rhs * inDim lhs * outDim lhs\n",
    "\n",
    "fma :: FuncDescription a => Bracketing a -> Integer\n",
    "fma Start = 0\n",
    "fma (Tangent f Start) = inDim f  * edgeCount f\n",
    "fma (Adjoint Start f) = outDim f * edgeCount f\n",
    "fma (Preacc Start rhs) = fma rhs\n",
    "fma (Preacc lhs Start) = fma lhs\n",
    "fma (Tangent f other) = fma other + inDim other  * edgeCount f\n",
    "fma (Adjoint other f) = fma other + outDim other * edgeCount f\n",
    "fma (Preacc  lhs rhs) = fma lhs + fma rhs + fmaMatProd lhs rhs\n",
    "\n",
    "mem :: FuncDescription a => Bracketing a -> Integer\n",
    "mem Start = 0\n",
    "mem (Tangent f other) = max (mem other) (inDim f)\n",
    "mem (Adjoint other f) = mem other + edgeCount f\n",
    "mem (Preacc  lhs rhs) = max (mem lhs) (mem rhs) + outDim lhs * inDim rhs"
   ]
  },
  {
   "cell_type": "markdown",
   "id": "51779cbd",
   "metadata": {},
   "source": [
    "## Generating all possible bracketings.\n"
   ]
  },
  {
   "cell_type": "code",
   "execution_count": 138,
   "id": "e7ee513d",
   "metadata": {
    "scrolled": false
   },
   "outputs": [
    {
     "data": {
      "text/plain": [
       "352"
      ]
     },
     "metadata": {},
     "output_type": "display_data"
    },
    {
     "data": {
      "text/latex": [
       "$\\mathsf{best:}\\left(\\left(\\dot{{F}_{4}}\\cdot{}\\left(\\dot{{F}_{3}}\\cdot{}\\left(\\dot{{F}_{2}}\\cdot{}I\\right)\\right)\\right)\\cdot{}\\overline{{F}_{1}}\\right)\\mathsf{, fma=}3552\\mathsf{, mem=}32$"
      ]
     },
     "metadata": {},
     "output_type": "display_data"
    },
    {
     "data": {
      "text/latex": [
       "$\\mathsf{best:}\\left(\\left(\\dot{{F}_{4}}\\cdot{}\\left(\\dot{{F}_{3}}\\cdot{}\\left(\\dot{{F}_{2}}\\cdot{}I\\right)\\right)\\right)\\cdot{}\\overline{{F}_{1}}\\right)\\mathsf{, fma=}3552\\mathsf{, mem=}32$"
      ]
     },
     "metadata": {},
     "output_type": "display_data"
    },
    {
     "data": {
      "text/latex": [
       "$\\mathsf{best:}\\left(\\left(\\dot{{F}_{4}}\\cdot{}\\left(\\dot{{F}_{3}}\\cdot{}\\left(\\dot{{F}_{2}}\\cdot{}I\\right)\\right)\\right)\\cdot{}\\overline{{F}_{1}}\\right)\\mathsf{, fma=}3552\\mathsf{, mem=}32$"
      ]
     },
     "metadata": {},
     "output_type": "display_data"
    },
    {
     "data": {
      "text/latex": [
       "$\\mathsf{best:}\\left(\\left(\\dot{{F}_{4}}\\cdot{}\\left(\\dot{{F}_{3}}\\cdot{}\\left(\\dot{{F}_{2}}\\cdot{}I\\right)\\right)\\right)\\cdot{}\\overline{{F}_{1}}\\right)\\mathsf{, fma=}3552\\mathsf{, mem=}32$"
      ]
     },
     "metadata": {},
     "output_type": "display_data"
    },
    {
     "data": {
      "text/latex": [
       "$\\mathsf{best:}\\left(\\left(\\dot{{F}_{4}}\\cdot{}\\left(\\dot{{F}_{3}}\\cdot{}\\left(\\dot{{F}_{2}}\\cdot{}I\\right)\\right)\\right)\\cdot{}\\overline{{F}_{1}}\\right)\\mathsf{, fma=}3552\\mathsf{, mem=}32$"
      ]
     },
     "metadata": {},
     "output_type": "display_data"
    },
    {
     "data": {
      "text/latex": [
       "$\\mathsf{best:}\\left(\\left(\\dot{{F}_{4}}\\cdot{}\\left(\\dot{{F}_{3}}\\cdot{}\\left(\\dot{{F}_{2}}\\cdot{}I\\right)\\right)\\right)\\cdot{}\\overline{{F}_{1}}\\right)\\mathsf{, fma=}3552\\mathsf{, mem=}32$"
      ]
     },
     "metadata": {},
     "output_type": "display_data"
    },
    {
     "data": {
      "text/latex": [
       "$\\mathsf{best:}\\left(\\left(\\dot{{F}_{4}}\\cdot{}\\left(\\dot{{F}_{3}}\\cdot{}\\left(\\dot{{F}_{2}}\\cdot{}I\\right)\\right)\\right)\\cdot{}\\overline{{F}_{1}}\\right)\\mathsf{, fma=}3552\\mathsf{, mem=}32$"
      ]
     },
     "metadata": {},
     "output_type": "display_data"
    },
    {
     "data": {
      "text/latex": [
       "$\\mathsf{best:}\\left(\\left(\\dot{{F}_{4}}\\cdot{}\\left(\\dot{{F}_{3}}\\cdot{}\\left(\\dot{{F}_{2}}\\cdot{}I\\right)\\right)\\right)\\cdot{}\\overline{{F}_{1}}\\right)\\mathsf{, fma=}3552\\mathsf{, mem=}32$"
      ]
     },
     "metadata": {},
     "output_type": "display_data"
    },
    {
     "data": {
      "text/latex": [
       "$\\mathsf{best:}\\left(\\left(\\left(\\dot{{F}_{4}}\\cdot{}I\\right)\\cdot{}\\overline{{F}_{3}}\\right)\\cdot{}\\left(\\left(I\\cdot{}\\overline{{F}_{2}}\\right)\\cdot{}\\left(I\\cdot{}\\overline{{F}_{1}}\\right)\\right)\\right)\\mathsf{, fma=}3257\\mathsf{, mem=}124$"
      ]
     },
     "metadata": {},
     "output_type": "display_data"
    },
    {
     "data": {
      "text/latex": [
       "$\\mathsf{best:}\\left(\\left(\\left(\\dot{{F}_{4}}\\cdot{}I\\right)\\cdot{}\\overline{{F}_{3}}\\right)\\cdot{}\\left(\\left(I\\cdot{}\\overline{{F}_{2}}\\right)\\cdot{}\\left(I\\cdot{}\\overline{{F}_{1}}\\right)\\right)\\right)\\mathsf{, fma=}3257\\mathsf{, mem=}124$"
      ]
     },
     "metadata": {},
     "output_type": "display_data"
    },
    {
     "data": {
      "text/latex": [
       "$\\mathsf{best:}\\left(\\left(\\left(\\dot{{F}_{4}}\\cdot{}I\\right)\\cdot{}\\left(\\left(I\\cdot{}\\overline{{F}_{3}}\\right)\\cdot{}\\left(I\\cdot{}\\overline{{F}_{2}}\\right)\\right)\\right)\\cdot{}\\overline{{F}_{1}}\\right)\\mathsf{, fma=}3257\\mathsf{, mem=}140$"
      ]
     },
     "metadata": {},
     "output_type": "display_data"
    },
    {
     "data": {
      "text/latex": [
       "$\\mathsf{best:}\\left(\\left(\\dot{{F}_{4}}\\cdot{}\\left(\\dot{{F}_{3}}\\cdot{}\\left(I\\cdot{}\\overline{{F}_{2}}\\right)\\right)\\right)\\cdot{}\\overline{{F}_{1}}\\right)\\mathsf{, fma=}2464\\mathsf{, mem=}152$"
      ]
     },
     "metadata": {},
     "output_type": "display_data"
    },
    {
     "data": {
      "text/latex": [
       "$\\mathsf{best:}\\left(\\left(\\left(\\dot{{F}_{4}}\\cdot{}\\left(\\dot{{F}_{3}}\\cdot{}I\\right)\\right)\\cdot{}\\overline{{F}_{2}}\\right)\\cdot{}\\overline{{F}_{1}}\\right)\\mathsf{, fma=}832\\mathsf{, mem=}160$"
      ]
     },
     "metadata": {},
     "output_type": "display_data"
    },
    {
     "data": {
      "text/latex": [
       "$\\mathsf{best:}\\left(\\left(\\left(\\dot{{F}_{4}}\\cdot{}\\left(\\dot{{F}_{3}}\\cdot{}I\\right)\\right)\\cdot{}\\overline{{F}_{2}}\\right)\\cdot{}\\overline{{F}_{1}}\\right)\\mathsf{, fma=}832\\mathsf{, mem=}160$"
      ]
     },
     "metadata": {},
     "output_type": "display_data"
    },
    {
     "data": {
      "text/latex": [
       "$\\mathsf{best:}\\left(\\left(\\left(\\dot{{F}_{4}}\\cdot{}\\left(\\dot{{F}_{3}}\\cdot{}I\\right)\\right)\\cdot{}\\overline{{F}_{2}}\\right)\\cdot{}\\overline{{F}_{1}}\\right)\\mathsf{, fma=}832\\mathsf{, mem=}160$"
      ]
     },
     "metadata": {},
     "output_type": "display_data"
    },
    {
     "data": {
      "text/latex": [
       "$\\mathsf{best:}\\left(\\left(\\left(\\dot{{F}_{4}}\\cdot{}\\left(\\dot{{F}_{3}}\\cdot{}I\\right)\\right)\\cdot{}\\overline{{F}_{2}}\\right)\\cdot{}\\overline{{F}_{1}}\\right)\\mathsf{, fma=}832\\mathsf{, mem=}160$"
      ]
     },
     "metadata": {},
     "output_type": "display_data"
    },
    {
     "data": {
      "text/latex": [
       "$\\mathsf{best:}\\left(\\left(\\left(\\dot{{F}_{4}}\\cdot{}\\left(\\dot{{F}_{3}}\\cdot{}I\\right)\\right)\\cdot{}\\overline{{F}_{2}}\\right)\\cdot{}\\overline{{F}_{1}}\\right)\\mathsf{, fma=}832\\mathsf{, mem=}160$"
      ]
     },
     "metadata": {},
     "output_type": "display_data"
    },
    {
     "data": {
      "text/latex": [
       "$\\mathsf{best:}\\left(\\left(\\left(\\dot{{F}_{4}}\\cdot{}\\left(\\dot{{F}_{3}}\\cdot{}I\\right)\\right)\\cdot{}\\overline{{F}_{2}}\\right)\\cdot{}\\overline{{F}_{1}}\\right)\\mathsf{, fma=}832\\mathsf{, mem=}160$"
      ]
     },
     "metadata": {},
     "output_type": "display_data"
    },
    {
     "data": {
      "text/latex": [
       "$\\mathsf{best:}\\left(\\left(\\left(\\dot{{F}_{4}}\\cdot{}\\left(I\\cdot{}\\overline{{F}_{3}}\\right)\\right)\\cdot{}\\overline{{F}_{2}}\\right)\\cdot{}\\overline{{F}_{1}}\\right)\\mathsf{, fma=}528\\mathsf{, mem=}228$"
      ]
     },
     "metadata": {},
     "output_type": "display_data"
    },
    {
     "data": {
      "text/latex": [
       "$\\mathsf{best:}\\left(\\left(\\left(\\left(I\\cdot{}\\overline{{F}_{4}}\\right)\\cdot{}\\overline{{F}_{3}}\\right)\\cdot{}\\overline{{F}_{2}}\\right)\\cdot{}\\overline{{F}_{1}}\\right)\\mathsf{, fma=}237\\mathsf{, mem=}237$"
      ]
     },
     "metadata": {},
     "output_type": "display_data"
    },
    {
     "data": {
      "text/latex": [
       "$\\mathsf{best:}\\left(\\left(\\left(\\left(I\\cdot{}\\overline{{F}_{4}}\\right)\\cdot{}\\overline{{F}_{3}}\\right)\\cdot{}\\overline{{F}_{2}}\\right)\\cdot{}\\overline{{F}_{1}}\\right)\\mathsf{, fma=}237\\mathsf{, mem=}237$"
      ]
     },
     "metadata": {},
     "output_type": "display_data"
    },
    {
     "data": {
      "text/latex": [
       "$\\mathsf{best:}\\left(\\left(\\left(\\left(I\\cdot{}\\overline{{F}_{4}}\\right)\\cdot{}\\overline{{F}_{3}}\\right)\\cdot{}\\overline{{F}_{2}}\\right)\\cdot{}\\overline{{F}_{1}}\\right)\\mathsf{, fma=}237\\mathsf{, mem=}237$"
      ]
     },
     "metadata": {},
     "output_type": "display_data"
    },
    {
     "data": {
      "text/latex": [
       "$\\mathsf{best:}\\left(\\left(\\left(\\left(I\\cdot{}\\overline{{F}_{4}}\\right)\\cdot{}\\overline{{F}_{3}}\\right)\\cdot{}\\overline{{F}_{2}}\\right)\\cdot{}\\overline{{F}_{1}}\\right)\\mathsf{, fma=}237\\mathsf{, mem=}237$"
      ]
     },
     "metadata": {},
     "output_type": "display_data"
    },
    {
     "data": {
      "text/latex": [
       "$\\mathsf{best:}\\left(\\left(\\left(\\left(I\\cdot{}\\overline{{F}_{4}}\\right)\\cdot{}\\overline{{F}_{3}}\\right)\\cdot{}\\overline{{F}_{2}}\\right)\\cdot{}\\overline{{F}_{1}}\\right)\\mathsf{, fma=}237\\mathsf{, mem=}237$"
      ]
     },
     "metadata": {},
     "output_type": "display_data"
    },
    {
     "data": {
      "text/latex": [
       "$\\mathsf{best:}\\left(\\left(\\left(\\left(I\\cdot{}\\overline{{F}_{4}}\\right)\\cdot{}\\overline{{F}_{3}}\\right)\\cdot{}\\overline{{F}_{2}}\\right)\\cdot{}\\overline{{F}_{1}}\\right)\\mathsf{, fma=}237\\mathsf{, mem=}237$"
      ]
     },
     "metadata": {},
     "output_type": "display_data"
    },
    {
     "data": {
      "text/latex": [
       "$\\mathsf{best:}\\left(\\left(\\left(\\left(I\\cdot{}\\overline{{F}_{4}}\\right)\\cdot{}\\overline{{F}_{3}}\\right)\\cdot{}\\overline{{F}_{2}}\\right)\\cdot{}\\overline{{F}_{1}}\\right)\\mathsf{, fma=}237\\mathsf{, mem=}237$"
      ]
     },
     "metadata": {},
     "output_type": "display_data"
    },
    {
     "data": {
      "text/latex": [
       "$\\mathsf{best:}\\left(\\left(\\left(\\left(I\\cdot{}\\overline{{F}_{4}}\\right)\\cdot{}\\overline{{F}_{3}}\\right)\\cdot{}\\overline{{F}_{2}}\\right)\\cdot{}\\overline{{F}_{1}}\\right)\\mathsf{, fma=}237\\mathsf{, mem=}237$"
      ]
     },
     "metadata": {},
     "output_type": "display_data"
    },
    {
     "data": {
      "text/latex": [
       "$\\mathsf{best:}\\left(\\left(\\left(\\left(I\\cdot{}\\overline{{F}_{4}}\\right)\\cdot{}\\overline{{F}_{3}}\\right)\\cdot{}\\overline{{F}_{2}}\\right)\\cdot{}\\overline{{F}_{1}}\\right)\\mathsf{, fma=}237\\mathsf{, mem=}237$"
      ]
     },
     "metadata": {},
     "output_type": "display_data"
    },
    {
     "data": {
      "text/latex": [
       "$\\mathsf{best:}\\left(\\left(\\left(\\left(I\\cdot{}\\overline{{F}_{4}}\\right)\\cdot{}\\overline{{F}_{3}}\\right)\\cdot{}\\overline{{F}_{2}}\\right)\\cdot{}\\overline{{F}_{1}}\\right)\\mathsf{, fma=}237\\mathsf{, mem=}237$"
      ]
     },
     "metadata": {},
     "output_type": "display_data"
    },
    {
     "data": {
      "text/latex": [
       "$\\mathsf{best:}\\left(\\left(\\left(\\left(I\\cdot{}\\overline{{F}_{4}}\\right)\\cdot{}\\overline{{F}_{3}}\\right)\\cdot{}\\overline{{F}_{2}}\\right)\\cdot{}\\overline{{F}_{1}}\\right)\\mathsf{, fma=}237\\mathsf{, mem=}237$"
      ]
     },
     "metadata": {},
     "output_type": "display_data"
    },
    {
     "data": {
      "text/latex": [
       "$\\mathsf{best:}\\left(\\left(\\left(\\left(I\\cdot{}\\overline{{F}_{4}}\\right)\\cdot{}\\overline{{F}_{3}}\\right)\\cdot{}\\overline{{F}_{2}}\\right)\\cdot{}\\overline{{F}_{1}}\\right)\\mathsf{, fma=}237\\mathsf{, mem=}237$"
      ]
     },
     "metadata": {},
     "output_type": "display_data"
    },
    {
     "data": {
      "text/latex": [
       "$\\mathsf{best:}\\left(\\left(\\left(\\left(I\\cdot{}\\overline{{F}_{4}}\\right)\\cdot{}\\overline{{F}_{3}}\\right)\\cdot{}\\overline{{F}_{2}}\\right)\\cdot{}\\overline{{F}_{1}}\\right)\\mathsf{, fma=}237\\mathsf{, mem=}237$"
      ]
     },
     "metadata": {},
     "output_type": "display_data"
    },
    {
     "data": {
      "text/latex": [
       "$\\mathsf{best:}\\left(\\left(\\left(\\left(I\\cdot{}\\overline{{F}_{4}}\\right)\\cdot{}\\overline{{F}_{3}}\\right)\\cdot{}\\overline{{F}_{2}}\\right)\\cdot{}\\overline{{F}_{1}}\\right)\\mathsf{, fma=}237\\mathsf{, mem=}237$"
      ]
     },
     "metadata": {},
     "output_type": "display_data"
    },
    {
     "data": {
      "text/latex": [
       "$\\mathsf{best:}\\left(\\left(\\left(\\left(I\\cdot{}\\overline{{F}_{4}}\\right)\\cdot{}\\overline{{F}_{3}}\\right)\\cdot{}\\overline{{F}_{2}}\\right)\\cdot{}\\overline{{F}_{1}}\\right)\\mathsf{, fma=}237\\mathsf{, mem=}237$"
      ]
     },
     "metadata": {},
     "output_type": "display_data"
    },
    {
     "data": {
      "text/latex": [
       "$\\mathsf{best:}\\left(\\left(\\left(\\left(I\\cdot{}\\overline{{F}_{4}}\\right)\\cdot{}\\overline{{F}_{3}}\\right)\\cdot{}\\overline{{F}_{2}}\\right)\\cdot{}\\overline{{F}_{1}}\\right)\\mathsf{, fma=}237\\mathsf{, mem=}237$"
      ]
     },
     "metadata": {},
     "output_type": "display_data"
    },
    {
     "data": {
      "text/latex": [
       "$\\mathsf{best:}\\left(\\left(\\left(\\left(I\\cdot{}\\overline{{F}_{4}}\\right)\\cdot{}\\overline{{F}_{3}}\\right)\\cdot{}\\overline{{F}_{2}}\\right)\\cdot{}\\overline{{F}_{1}}\\right)\\mathsf{, fma=}237\\mathsf{, mem=}237$"
      ]
     },
     "metadata": {},
     "output_type": "display_data"
    },
    {
     "data": {
      "text/latex": [
       "$\\mathsf{best:}\\left(\\left(\\left(\\left(I\\cdot{}\\overline{{F}_{4}}\\right)\\cdot{}\\overline{{F}_{3}}\\right)\\cdot{}\\overline{{F}_{2}}\\right)\\cdot{}\\overline{{F}_{1}}\\right)\\mathsf{, fma=}237\\mathsf{, mem=}237$"
      ]
     },
     "metadata": {},
     "output_type": "display_data"
    },
    {
     "data": {
      "text/latex": [
       "$\\mathsf{best:}\\left(\\left(\\left(\\left(I\\cdot{}\\overline{{F}_{4}}\\right)\\cdot{}\\overline{{F}_{3}}\\right)\\cdot{}\\overline{{F}_{2}}\\right)\\cdot{}\\overline{{F}_{1}}\\right)\\mathsf{, fma=}237\\mathsf{, mem=}237$"
      ]
     },
     "metadata": {},
     "output_type": "display_data"
    },
    {
     "data": {
      "text/latex": [
       "$\\mathsf{best:}\\left(\\left(\\left(\\left(I\\cdot{}\\overline{{F}_{4}}\\right)\\cdot{}\\overline{{F}_{3}}\\right)\\cdot{}\\overline{{F}_{2}}\\right)\\cdot{}\\overline{{F}_{1}}\\right)\\mathsf{, fma=}237\\mathsf{, mem=}237$"
      ]
     },
     "metadata": {},
     "output_type": "display_data"
    },
    {
     "data": {
      "text/latex": [
       "$\\mathsf{best:}\\left(\\left(\\left(\\left(I\\cdot{}\\overline{{F}_{4}}\\right)\\cdot{}\\overline{{F}_{3}}\\right)\\cdot{}\\overline{{F}_{2}}\\right)\\cdot{}\\overline{{F}_{1}}\\right)\\mathsf{, fma=}237\\mathsf{, mem=}237$"
      ]
     },
     "metadata": {},
     "output_type": "display_data"
    },
    {
     "data": {
      "text/latex": [
       "$\\mathsf{best:}\\left(\\left(\\left(\\left(I\\cdot{}\\overline{{F}_{4}}\\right)\\cdot{}\\overline{{F}_{3}}\\right)\\cdot{}\\overline{{F}_{2}}\\right)\\cdot{}\\overline{{F}_{1}}\\right)\\mathsf{, fma=}237\\mathsf{, mem=}237$"
      ]
     },
     "metadata": {},
     "output_type": "display_data"
    },
    {
     "data": {
      "text/latex": [
       "$\\mathsf{best:}\\left(\\left(\\left(\\left(I\\cdot{}\\overline{{F}_{4}}\\right)\\cdot{}\\overline{{F}_{3}}\\right)\\cdot{}\\overline{{F}_{2}}\\right)\\cdot{}\\overline{{F}_{1}}\\right)\\mathsf{, fma=}237\\mathsf{, mem=}237$"
      ]
     },
     "metadata": {},
     "output_type": "display_data"
    },
    {
     "data": {
      "text/latex": [
       "$\\mathsf{best:}\\left(\\left(\\left(\\left(I\\cdot{}\\overline{{F}_{4}}\\right)\\cdot{}\\overline{{F}_{3}}\\right)\\cdot{}\\overline{{F}_{2}}\\right)\\cdot{}\\overline{{F}_{1}}\\right)\\mathsf{, fma=}237\\mathsf{, mem=}237$"
      ]
     },
     "metadata": {},
     "output_type": "display_data"
    },
    {
     "data": {
      "text/latex": [
       "$\\mathsf{best:}\\left(\\left(\\left(\\left(I\\cdot{}\\overline{{F}_{4}}\\right)\\cdot{}\\overline{{F}_{3}}\\right)\\cdot{}\\overline{{F}_{2}}\\right)\\cdot{}\\overline{{F}_{1}}\\right)\\mathsf{, fma=}237\\mathsf{, mem=}237$"
      ]
     },
     "metadata": {},
     "output_type": "display_data"
    },
    {
     "data": {
      "text/latex": [
       "$\\mathsf{best:}\\left(\\left(\\left(\\left(I\\cdot{}\\overline{{F}_{4}}\\right)\\cdot{}\\overline{{F}_{3}}\\right)\\cdot{}\\overline{{F}_{2}}\\right)\\cdot{}\\overline{{F}_{1}}\\right)\\mathsf{, fma=}237\\mathsf{, mem=}237$"
      ]
     },
     "metadata": {},
     "output_type": "display_data"
    },
    {
     "data": {
      "text/latex": [
       "$\\mathsf{best:}\\left(\\left(\\left(\\left(I\\cdot{}\\overline{{F}_{4}}\\right)\\cdot{}\\overline{{F}_{3}}\\right)\\cdot{}\\overline{{F}_{2}}\\right)\\cdot{}\\overline{{F}_{1}}\\right)\\mathsf{, fma=}237\\mathsf{, mem=}237$"
      ]
     },
     "metadata": {},
     "output_type": "display_data"
    },
    {
     "data": {
      "text/latex": [
       "$\\mathsf{best:}\\left(\\left(\\left(\\left(I\\cdot{}\\overline{{F}_{4}}\\right)\\cdot{}\\overline{{F}_{3}}\\right)\\cdot{}\\overline{{F}_{2}}\\right)\\cdot{}\\overline{{F}_{1}}\\right)\\mathsf{, fma=}237\\mathsf{, mem=}237$"
      ]
     },
     "metadata": {},
     "output_type": "display_data"
    }
   ],
   "source": [
    "bracketings = genEach caseDescList\n",
    "\n",
    "withPlaceholders :: Bracketing a -> Bracketing LaTeX\n",
    "withPlaceholders x = enumMap f x 1 where\n",
    "    f :: a -> Integer -> LaTeX\n",
    "    f _ e = \"F\" !: fromInteger e\n",
    "\n",
    "length bracketings\n",
    "\n",
    "argMinimum :: (Monoid a, Ord b) => (a -> b) -> [a] -> a\n",
    "argMinimum f xs = fold $ minimum $ (\\x -> Arg (f x) x) <$> xs\n",
    "\n",
    "argMaximum :: (Monoid a, Ord b) => (a -> b) -> [a] -> a\n",
    "argMaximum f xs = fold $ maximum $ (\\x -> Arg (f x) x) <$> xs\n",
    "\n",
    "brakSpaces = (\\f -> f bracketings) <$> fs where\n",
    "    fs = ((\\u -> filter (\\x -> mem x < u)) <$> [50,60..500]) ++ [id]\n",
    "\n",
    "texyResult :: (FuncDescription a) => [Bracketing a] -> LaTeX\n",
    "texyResult xs = mathsf \"best:\" <> texy (withPlaceholders best) <> mathsf \", fma=\" <> texy (fma best) <> mathsf \", mem=\" <> texy (mem best) where\n",
    "    best = argMinimum fma xs\n",
    "    \n",
    "math.texyResult <$> brakSpaces"
   ]
  },
  {
   "cell_type": "code",
   "execution_count": 102,
   "id": "abc83c94",
   "metadata": {
    "scrolled": false
   },
   "outputs": [
    {
     "data": {
      "text/plain": [
       "76"
      ]
     },
     "metadata": {},
     "output_type": "display_data"
    },
    {
     "data": {
      "text/latex": [
       "\\[\\left(\\left(\\left(\\dot{{F}_{4}}\\cdot{}\\left(\\dot{{F}_{3}}\\cdot{}I\\right)\\right)\\cdot{}\\overline{{F}_{2}}\\right)\\cdot{}\\overline{{F}_{1}}\\right)\\]"
      ]
     },
     "metadata": {},
     "output_type": "display_data"
    },
    {
     "data": {
      "text/latex": [
       "\\[\\left(\\left(\\left(\\left(I\\cdot{}\\overline{{F}_{4}}\\right)\\cdot{}\\overline{{F}_{3}}\\right)\\cdot{}\\overline{{F}_{2}}\\right)\\cdot{}\\overline{{F}_{1}}\\right)\\]"
      ]
     },
     "metadata": {},
     "output_type": "display_data"
    },
    {
     "data": {
      "text/plain": [
       "[(1440,160),(313,313)]"
      ]
     },
     "metadata": {},
     "output_type": "display_data"
    }
   ],
   "source": []
  }
 ],
 "metadata": {
  "kernelspec": {
   "display_name": "Haskell",
   "language": "haskell",
   "name": "haskell"
  },
  "language_info": {
   "codemirror_mode": "ihaskell",
   "file_extension": ".hs",
   "mimetype": "text/x-haskell",
   "name": "haskell",
   "pygments_lexer": "Haskell",
   "version": "8.10.7"
  }
 },
 "nbformat": 4,
 "nbformat_minor": 5
}
