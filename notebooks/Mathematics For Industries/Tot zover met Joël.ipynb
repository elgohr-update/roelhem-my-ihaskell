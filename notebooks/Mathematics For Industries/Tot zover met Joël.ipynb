{
 "cells": [
  {
   "cell_type": "code",
   "execution_count": 152,
   "id": "90199e57",
   "metadata": {},
   "outputs": [
    {
     "data": {
      "text/latex": [
       "${\\mathbb{R}}^{1}\\rightarrow{}{\\mathbb{R}}^{2}$"
      ]
     },
     "metadata": {},
     "output_type": "display_data"
    }
   ],
   "source": [
    "{-# LANGUAGE OverloadedStrings, OverloadedLists, TypeFamilies, TypeApplications, FlexibleContexts #-}\n",
    "\n",
    "import Math.AD.Data.Bracketing\n",
    "import Math.AD.Real\n",
    "import Control.Monad\n",
    "import Data.Maybe (fromJust, maybe, maybeToList)\n",
    "import Data.List.NonEmpty (toList, NonEmpty(..))\n",
    "import Data.Foldable (minimumBy)\n",
    "import Control.Lens\n",
    "import IHaskell.Display\n",
    "import Graphics.Rendering.Chart\n",
    "import Graphics.Rendering.Chart.Easy\n",
    "import Data.Traversable.Enumerate (enumMap)\n",
    "import Text.LaTeX (LaTeX, (!:))\n",
    "\n",
    "1 :-> 2\n",
    "\n",
    "withPlaceholders :: Bracketing a -> Bracketing LaTeX\n",
    "withPlaceholders x = enumMap f x 1 where\n",
    "  f :: a -> Integer -> LaTeX\n",
    "  f _ e = \"F\" !: fromInteger e"
   ]
  },
  {
   "cell_type": "code",
   "execution_count": 15,
   "id": "c08bb013",
   "metadata": {},
   "outputs": [
    {
     "data": {
      "text/latex": [
       "${\\mathbb{R}}^{1}\\rightarrow{}{\\mathbb{R}}^{4}$"
      ]
     },
     "metadata": {},
     "output_type": "display_data"
    },
    {
     "data": {
      "text/latex": [
       "$F:{\\mathbb{R}}^{1}\\xrightarrow[10]{}{\\mathbb{R}}^{4}$"
      ]
     },
     "metadata": {},
     "output_type": "display_data"
    },
    {
     "data": {
      "text/latex": [
       "${\\mathbb{R}}^{1}\\xrightarrow[10]{{F}_{1}}{\\mathbb{R}}^{4}\\xrightarrow[20]{{F}_{2}}{\\mathbb{R}}^{5}\\xrightarrow[100]{{F}_{3}}{\\mathbb{R}}^{8}$"
      ]
     },
     "metadata": {},
     "output_type": "display_data"
    },
    {
     "data": {
      "text/plain": [
       "I"
      ]
     },
     "metadata": {},
     "output_type": "display_data"
    },
    {
     "data": {
      "text/latex": [
       "\\[\\left(\\dot{1}\\cdot{}I\\right)\\]"
      ]
     },
     "metadata": {},
     "output_type": "display_data"
    },
    {
     "data": {
      "text/latex": [
       "\\[\\left(I\\cdot{}\\overline{2}\\right)\\]"
      ]
     },
     "metadata": {},
     "output_type": "display_data"
    },
    {
     "data": {
      "text/latex": [
       "\\[\\left(\\left(\\dot{1}\\cdot{}I\\right)\\cdot{}\\left(I\\cdot{}\\overline{2}\\right)\\right)\\]"
      ]
     },
     "metadata": {},
     "output_type": "display_data"
    },
    {
     "data": {
      "text/html": [
       "<style>/* Styles used for the Hoogle display in the pager */\n",
       ".hoogle-doc {\n",
       "display: block;\n",
       "padding-bottom: 1.3em;\n",
       "padding-left: 0.4em;\n",
       "}\n",
       ".hoogle-code {\n",
       "display: block;\n",
       "font-family: monospace;\n",
       "white-space: pre;\n",
       "}\n",
       ".hoogle-text {\n",
       "display: block;\n",
       "}\n",
       ".hoogle-name {\n",
       "color: green;\n",
       "font-weight: bold;\n",
       "}\n",
       ".hoogle-head {\n",
       "font-weight: bold;\n",
       "}\n",
       ".hoogle-sub {\n",
       "display: block;\n",
       "margin-left: 0.4em;\n",
       "}\n",
       ".hoogle-package {\n",
       "font-weight: bold;\n",
       "font-style: italic;\n",
       "}\n",
       ".hoogle-module {\n",
       "font-weight: bold;\n",
       "}\n",
       ".hoogle-class {\n",
       "font-weight: bold;\n",
       "}\n",
       ".get-type {\n",
       "color: green;\n",
       "font-weight: bold;\n",
       "font-family: monospace;\n",
       "display: block;\n",
       "white-space: pre-wrap;\n",
       "}\n",
       ".show-type {\n",
       "color: green;\n",
       "font-weight: bold;\n",
       "font-family: monospace;\n",
       "margin-left: 1em;\n",
       "}\n",
       ".mono {\n",
       "font-family: monospace;\n",
       "display: block;\n",
       "}\n",
       ".err-msg {\n",
       "color: red;\n",
       "font-style: italic;\n",
       "font-family: monospace;\n",
       "white-space: pre;\n",
       "display: block;\n",
       "}\n",
       "#unshowable {\n",
       "color: red;\n",
       "font-weight: bold;\n",
       "}\n",
       ".err-msg.in.collapse {\n",
       "padding-top: 0.7em;\n",
       "}\n",
       ".highlight-code {\n",
       "white-space: pre;\n",
       "font-family: monospace;\n",
       "}\n",
       ".suggestion-warning { \n",
       "font-weight: bold;\n",
       "color: rgb(200, 130, 0);\n",
       "}\n",
       ".suggestion-error { \n",
       "font-weight: bold;\n",
       "color: red;\n",
       "}\n",
       ".suggestion-name {\n",
       "font-weight: bold;\n",
       "}\n",
       "</style><span class='get-type'>fma :: forall a. FuncDescription a => Bracketing a -> Integer</span>"
      ],
      "text/plain": [
       "fma :: forall a. FuncDescription a => Bracketing a -> Integer"
      ]
     },
     "metadata": {},
     "output_type": "display_data"
    },
    {
     "data": {
      "text/html": [
       "<style>/* Styles used for the Hoogle display in the pager */\n",
       ".hoogle-doc {\n",
       "display: block;\n",
       "padding-bottom: 1.3em;\n",
       "padding-left: 0.4em;\n",
       "}\n",
       ".hoogle-code {\n",
       "display: block;\n",
       "font-family: monospace;\n",
       "white-space: pre;\n",
       "}\n",
       ".hoogle-text {\n",
       "display: block;\n",
       "}\n",
       ".hoogle-name {\n",
       "color: green;\n",
       "font-weight: bold;\n",
       "}\n",
       ".hoogle-head {\n",
       "font-weight: bold;\n",
       "}\n",
       ".hoogle-sub {\n",
       "display: block;\n",
       "margin-left: 0.4em;\n",
       "}\n",
       ".hoogle-package {\n",
       "font-weight: bold;\n",
       "font-style: italic;\n",
       "}\n",
       ".hoogle-module {\n",
       "font-weight: bold;\n",
       "}\n",
       ".hoogle-class {\n",
       "font-weight: bold;\n",
       "}\n",
       ".get-type {\n",
       "color: green;\n",
       "font-weight: bold;\n",
       "font-family: monospace;\n",
       "display: block;\n",
       "white-space: pre-wrap;\n",
       "}\n",
       ".show-type {\n",
       "color: green;\n",
       "font-weight: bold;\n",
       "font-family: monospace;\n",
       "margin-left: 1em;\n",
       "}\n",
       ".mono {\n",
       "font-family: monospace;\n",
       "display: block;\n",
       "}\n",
       ".err-msg {\n",
       "color: red;\n",
       "font-style: italic;\n",
       "font-family: monospace;\n",
       "white-space: pre;\n",
       "display: block;\n",
       "}\n",
       "#unshowable {\n",
       "color: red;\n",
       "font-weight: bold;\n",
       "}\n",
       ".err-msg.in.collapse {\n",
       "padding-top: 0.7em;\n",
       "}\n",
       ".highlight-code {\n",
       "white-space: pre;\n",
       "font-family: monospace;\n",
       "}\n",
       ".suggestion-warning { \n",
       "font-weight: bold;\n",
       "color: rgb(200, 130, 0);\n",
       "}\n",
       ".suggestion-error { \n",
       "font-weight: bold;\n",
       "color: red;\n",
       "}\n",
       ".suggestion-name {\n",
       "font-weight: bold;\n",
       "}\n",
       "</style><span class='get-type'>mem :: forall a. FuncDescription a => Bracketing a -> Integer</span>"
      ],
      "text/plain": [
       "mem :: forall a. FuncDescription a => Bracketing a -> Integer"
      ]
     },
     "metadata": {},
     "output_type": "display_data"
    },
    {
     "data": {
      "text/latex": [
       "${\\mathbb{R}}^{32}\\xrightarrow[50]{{F}_{1}}{\\mathbb{R}}^{32}\\xrightarrow[50]{{F}_{2}}{\\mathbb{R}}^{16}\\xrightarrow[50]{{F}_{3}}{\\mathbb{R}}^{8}\\xrightarrow[50]{{F}_{4}}{\\mathbb{R}}^{4}\\xrightarrow[50]{{F}_{5}}{\\mathbb{R}}^{1}$"
      ]
     },
     "metadata": {},
     "output_type": "display_data"
    }
   ],
   "source": [
    "1 :-> 4\n",
    "\n",
    "F (1 :-> 4) 10\n",
    "\n",
    "1 :->:[(4,10), (5,20), (8, 100)]\n",
    "\n",
    "Start\n",
    "Tangent 1 Start\n",
    "Adjoint Start 2\n",
    "Preacc (Tangent 1 Start) (Adjoint Start 2)\n",
    "\n",
    ":type fma\n",
    ":type mem\n",
    "\n",
    "zipFChain [32,32,16,8,4,1] $ repeat 50"
   ]
  },
  {
   "cell_type": "markdown",
   "id": "8ee56112",
   "metadata": {},
   "source": [
    "# Listing multiple results"
   ]
  },
  {
   "cell_type": "code",
   "execution_count": 3,
   "id": "2ac8b1e6",
   "metadata": {
    "scrolled": true
   },
   "outputs": [],
   "source": [
    "inputs :: [FChain']\n",
    "inputs = f <$> [50] where\n",
    "    f n = zipFChain [32,32,16,8,4,1] $ repeat n"
   ]
  },
  {
   "cell_type": "code",
   "execution_count": 2,
   "id": "3663b426",
   "metadata": {},
   "outputs": [],
   "source": [
    "pub :: FChain' -> IO ()\n",
    "pub input = do\n",
    "    printDisplay $ markdown \"## New run\"\n",
    "    printDisplay $ display input\n",
    "    printDisplay $ markdown \"Results:\"\n",
    "    let res = bfEachBest fma mem input\n",
    "    forM_ res (\\r -> do\n",
    "        printDisplay $ display r)\n",
    "\n",
    "-- forM_ inputs pub"
   ]
  },
  {
   "cell_type": "code",
   "execution_count": 77,
   "id": "aa0da511",
   "metadata": {},
   "outputs": [
    {
     "data": {
      "text/latex": [
       "\\[\\left(\\left(\\left(\\left(\\left(I\\cdot{}\\overline{{F}_{5}}\\right)\\cdot{}\\overline{{F}_{4}}\\right)\\cdot{}\\overline{{F}_{3}}\\right)\\cdot{}\\overline{{F}_{2}}\\right)\\cdot{}\\overline{{F}_{1}}\\right)\\mathsf{, fma=}60694\\mathsf{, mem=}60695\\]"
      ]
     },
     "metadata": {},
     "output_type": "display_data"
    },
    {
     "data": {
      "text/latex": [
       "\\[\\left(\\left(\\left(\\left(\\left(\\dot{{F}_{5}}\\cdot{}I\\right)\\cdot{}\\overline{{F}_{4}}\\right)\\cdot{}\\overline{{F}_{3}}\\right)\\cdot{}\\overline{{F}_{2}}\\right)\\cdot{}\\overline{{F}_{1}}\\right)\\mathsf{, fma=}76732\\mathsf{, mem=}55352\\]"
      ]
     },
     "metadata": {},
     "output_type": "display_data"
    },
    {
     "data": {
      "text/latex": [
       "\\[\\left(\\left(\\left(\\left(\\dot{{F}_{5}}\\cdot{}\\left(\\dot{{F}_{4}}\\cdot{}I\\right)\\right)\\cdot{}\\overline{{F}_{3}}\\right)\\cdot{}\\overline{{F}_{2}}\\right)\\cdot{}\\overline{{F}_{1}}\\right)\\mathsf{, fma=}99761\\mathsf{, mem=}55121\\]"
      ]
     },
     "metadata": {},
     "output_type": "display_data"
    },
    {
     "data": {
      "text/latex": [
       "\\[\\left(\\left(\\left(\\dot{{F}_{5}}\\cdot{}\\left(\\left(\\dot{{F}_{4}}\\cdot{}I\\right)\\cdot{}\\left(I\\cdot{}\\overline{{F}_{3}}\\right)\\right)\\right)\\cdot{}\\overline{{F}_{2}}\\right)\\cdot{}\\overline{{F}_{1}}\\right)\\mathsf{, fma=}106385\\mathsf{, mem=}54980\\]"
      ]
     },
     "metadata": {},
     "output_type": "display_data"
    },
    {
     "data": {
      "text/latex": [
       "\\[\\left(\\left(\\left(\\dot{{F}_{5}}\\cdot{}\\left(\\left(\\dot{{F}_{4}}\\cdot{}I\\right)\\cdot{}\\left(\\dot{{F}_{3}}\\cdot{}I\\right)\\right)\\right)\\cdot{}\\overline{{F}_{2}}\\right)\\cdot{}\\overline{{F}_{1}}\\right)\\mathsf{, fma=}107325\\mathsf{, mem=}54757\\]"
      ]
     },
     "metadata": {},
     "output_type": "display_data"
    },
    {
     "data": {
      "text/latex": [
       "\\[\\left(\\left(\\dot{{F}_{5}}\\cdot{}\\left(\\left(\\dot{{F}_{4}}\\cdot{}I\\right)\\cdot{}\\left(\\left(\\dot{{F}_{3}}\\cdot{}I\\right)\\cdot{}\\left(\\dot{{F}_{2}}\\cdot{}I\\right)\\right)\\right)\\right)\\cdot{}\\overline{{F}_{1}}\\right)\\mathsf{, fma=}121465\\mathsf{, mem=}54561\\]"
      ]
     },
     "metadata": {},
     "output_type": "display_data"
    },
    {
     "data": {
      "text/latex": [
       "\\[\\left(\\left(\\dot{{F}_{5}}\\cdot{}\\left(\\left(\\dot{{F}_{4}}\\cdot{}\\left(\\dot{{F}_{3}}\\cdot{}I\\right)\\right)\\cdot{}\\left(\\dot{{F}_{2}}\\cdot{}I\\right)\\right)\\right)\\cdot{}\\overline{{F}_{1}}\\right)\\mathsf{, fma=}125369\\mathsf{, mem=}54449\\]"
      ]
     },
     "metadata": {},
     "output_type": "display_data"
    },
    {
     "data": {
      "text/latex": [
       "\\[\\left(\\left(\\left(\\dot{{F}_{5}}\\cdot{}\\left(\\dot{{F}_{4}}\\cdot{}\\left(\\dot{{F}_{3}}\\cdot{}I\\right)\\right)\\right)\\cdot{}\\overline{{F}_{2}}\\right)\\cdot{}\\left(I\\cdot{}\\overline{{F}_{1}}\\right)\\right)\\mathsf{, fma=}255110\\mathsf{, mem=}54401\\]"
      ]
     },
     "metadata": {},
     "output_type": "display_data"
    },
    {
     "data": {
      "text/latex": [
       "\\[\\left(\\left(\\dot{{F}_{5}}\\cdot{}\\left(\\dot{{F}_{4}}\\cdot{}\\left(\\dot{{F}_{3}}\\cdot{}\\left(\\dot{{F}_{2}}\\cdot{}I\\right)\\right)\\right)\\right)\\cdot{}\\overline{{F}_{1}}\\right)\\mathsf{, fma=}257265\\mathsf{, mem=}54385\\]"
      ]
     },
     "metadata": {},
     "output_type": "display_data"
    },
    {
     "data": {
      "text/latex": [
       "\\[\\left(\\left(\\dot{{F}_{5}}\\cdot{}I\\right)\\cdot{}\\left(\\left(\\left(\\left(I\\cdot{}\\overline{{F}_{4}}\\right)\\cdot{}\\overline{{F}_{3}}\\right)\\cdot{}\\overline{{F}_{2}}\\right)\\cdot{}\\left(I\\cdot{}\\overline{{F}_{1}}\\right)\\right)\\right)\\mathsf{, fma=}1753230\\mathsf{, mem=}5491\\]"
      ]
     },
     "metadata": {},
     "output_type": "display_data"
    },
    {
     "data": {
      "text/latex": [
       "\\[\\left(\\left(\\dot{{F}_{5}}\\cdot{}\\left(\\dot{{F}_{4}}\\cdot{}I\\right)\\right)\\cdot{}\\left(\\left(\\left(I\\cdot{}\\overline{{F}_{3}}\\right)\\cdot{}\\overline{{F}_{2}}\\right)\\cdot{}\\left(I\\cdot{}\\overline{{F}_{1}}\\right)\\right)\\right)\\mathsf{, fma=}1759998\\mathsf{, mem=}5427\\]"
      ]
     },
     "metadata": {},
     "output_type": "display_data"
    },
    {
     "data": {
      "text/latex": [
       "\\[\\left(\\left(\\left(\\dot{{F}_{5}}\\cdot{}\\left(\\dot{{F}_{4}}\\cdot{}I\\right)\\right)\\cdot{}\\left(\\left(I\\cdot{}\\overline{{F}_{3}}\\right)\\cdot{}\\left(I\\cdot{}\\overline{{F}_{2}}\\right)\\right)\\right)\\cdot{}\\left(I\\cdot{}\\overline{{F}_{1}}\\right)\\right)\\mathsf{, fma=}1765070\\mathsf{, mem=}5411\\]"
      ]
     },
     "metadata": {},
     "output_type": "display_data"
    },
    {
     "data": {
      "text/latex": [
       "\\[\\left(\\left(\\dot{{F}_{5}}\\cdot{}I\\right)\\cdot{}\\left(\\left(\\left(\\left(I\\cdot{}\\overline{{F}_{4}}\\right)\\cdot{}\\overline{{F}_{3}}\\right)\\cdot{}\\overline{{F}_{2}}\\right)\\cdot{}\\left(\\dot{{F}_{1}}\\cdot{}I\\right)\\right)\\right)\\mathsf{, fma=}1769268\\mathsf{, mem=}1143\\]"
      ]
     },
     "metadata": {},
     "output_type": "display_data"
    },
    {
     "data": {
      "text/latex": [
       "\\[\\left(\\left(\\dot{{F}_{5}}\\cdot{}I\\right)\\cdot{}\\left(\\left(\\left(\\left(\\dot{{F}_{4}}\\cdot{}I\\right)\\cdot{}\\overline{{F}_{3}}\\right)\\cdot{}\\overline{{F}_{2}}\\right)\\cdot{}\\left(\\dot{{F}_{1}}\\cdot{}I\\right)\\right)\\right)\\mathsf{, fma=}1770208\\mathsf{, mem=}912\\]"
      ]
     },
     "metadata": {},
     "output_type": "display_data"
    },
    {
     "data": {
      "text/latex": [
       "\\[\\left(\\left(\\dot{{F}_{5}}\\cdot{}I\\right)\\cdot{}\\left(\\left(I\\cdot{}\\overline{{F}_{4}}\\right)\\cdot{}\\left(\\left(\\left(I\\cdot{}\\overline{{F}_{3}}\\right)\\cdot{}\\overline{{F}_{2}}\\right)\\cdot{}\\left(\\dot{{F}_{1}}\\cdot{}I\\right)\\right)\\right)\\right)\\mathsf{, fma=}1774948\\mathsf{, mem=}883\\]"
      ]
     },
     "metadata": {},
     "output_type": "display_data"
    },
    {
     "data": {
      "text/latex": [
       "\\[\\left(\\left(\\dot{{F}_{5}}\\cdot{}I\\right)\\cdot{}\\left(\\left(I\\cdot{}\\overline{{F}_{4}}\\right)\\cdot{}\\left(\\left(\\left(\\dot{{F}_{3}}\\cdot{}I\\right)\\cdot{}\\overline{{F}_{2}}\\right)\\cdot{}\\left(\\dot{{F}_{1}}\\cdot{}I\\right)\\right)\\right)\\right)\\mathsf{, fma=}1775888\\mathsf{, mem=}652\\]"
      ]
     },
     "metadata": {},
     "output_type": "display_data"
    },
    {
     "data": {
      "text/latex": [
       "\\[\\left(\\left(\\dot{{F}_{5}}\\cdot{}I\\right)\\cdot{}\\left(\\left(\\left(\\dot{{F}_{4}}\\cdot{}I\\right)\\cdot{}\\overline{{F}_{3}}\\right)\\cdot{}\\left(\\left(I\\cdot{}\\overline{{F}_{2}}\\right)\\cdot{}\\left(\\dot{{F}_{1}}\\cdot{}I\\right)\\right)\\right)\\right)\\mathsf{, fma=}1776436\\mathsf{, mem=}500\\]"
      ]
     },
     "metadata": {},
     "output_type": "display_data"
    },
    {
     "data": {
      "text/latex": [
       "\\[\\left(\\left(\\dot{{F}_{5}}\\cdot{}I\\right)\\cdot{}\\left(\\left(\\left(\\dot{{F}_{4}}\\cdot{}\\left(\\dot{{F}_{3}}\\cdot{}I\\right)\\right)\\cdot{}\\overline{{F}_{2}}\\right)\\cdot{}\\left(\\dot{{F}_{1}}\\cdot{}I\\right)\\right)\\right)\\mathsf{, fma=}1777320\\mathsf{, mem=}484\\]"
      ]
     },
     "metadata": {},
     "output_type": "display_data"
    },
    {
     "data": {
      "text/latex": [
       "\\[\\left(\\left(\\dot{{F}_{5}}\\cdot{}\\left(\\dot{{F}_{4}}\\cdot{}I\\right)\\right)\\cdot{}\\left(\\left(\\dot{{F}_{3}}\\cdot{}I\\right)\\cdot{}\\left(\\left(I\\cdot{}\\overline{{F}_{2}}\\right)\\cdot{}\\left(\\dot{{F}_{1}}\\cdot{}I\\right)\\right)\\right)\\right)\\mathsf{, fma=}1781652\\mathsf{, mem=}351\\]"
      ]
     },
     "metadata": {},
     "output_type": "display_data"
    },
    {
     "data": {
      "text/latex": [
       "\\[\\left(\\left(\\dot{{F}_{5}}\\cdot{}\\left(\\dot{{F}_{4}}\\cdot{}I\\right)\\right)\\cdot{}\\left(\\left(\\dot{{F}_{3}}\\cdot{}I\\right)\\cdot{}\\left(\\left(\\dot{{F}_{2}}\\cdot{}I\\right)\\cdot{}\\left(\\dot{{F}_{1}}\\cdot{}I\\right)\\right)\\right)\\right)\\mathsf{, fma=}1782592\\mathsf{, mem=}120\\]"
      ]
     },
     "metadata": {},
     "output_type": "display_data"
    },
    {
     "data": {
      "text/latex": [
       "\\[\\left(\\left(\\dot{{F}_{5}}\\cdot{}\\left(\\dot{{F}_{4}}\\cdot{}I\\right)\\right)\\cdot{}\\left(\\left(\\dot{{F}_{3}}\\cdot{}\\left(\\dot{{F}_{2}}\\cdot{}I\\right)\\right)\\cdot{}\\left(\\dot{{F}_{1}}\\cdot{}I\\right)\\right)\\right)\\mathsf{, fma=}1784088\\mathsf{, mem=}96\\]"
      ]
     },
     "metadata": {},
     "output_type": "display_data"
    },
    {
     "data": {
      "text/latex": [
       "\\[\\left(\\left(\\dot{{F}_{5}}\\cdot{}\\left(\\dot{{F}_{4}}\\cdot{}\\left(\\dot{{F}_{3}}\\cdot{}I\\right)\\right)\\right)\\cdot{}\\left(\\left(\\dot{{F}_{2}}\\cdot{}I\\right)\\cdot{}\\left(\\dot{{F}_{1}}\\cdot{}I\\right)\\right)\\right)\\mathsf{, fma=}1788032\\mathsf{, mem=}64\\]"
      ]
     },
     "metadata": {},
     "output_type": "display_data"
    },
    {
     "data": {
      "text/latex": [
       "\\[\\left(\\left(\\dot{{F}_{5}}\\cdot{}\\left(\\dot{{F}_{4}}\\cdot{}\\left(\\dot{{F}_{3}}\\cdot{}\\left(\\dot{{F}_{2}}\\cdot{}I\\right)\\right)\\right)\\right)\\cdot{}\\left(\\dot{{F}_{1}}\\cdot{}I\\right)\\right)\\mathsf{, fma=}1793032\\mathsf{, mem=}48\\]"
      ]
     },
     "metadata": {},
     "output_type": "display_data"
    },
    {
     "data": {
      "text/latex": [
       "\\[\\left(\\dot{{F}_{5}}\\cdot{}\\left(\\dot{{F}_{4}}\\cdot{}\\left(\\dot{{F}_{3}}\\cdot{}\\left(\\dot{{F}_{2}}\\cdot{}\\left(\\dot{{F}_{1}}\\cdot{}I\\right)\\right)\\right)\\right)\\right)\\mathsf{, fma=}1942208\\mathsf{, mem=}32\\]"
      ]
     },
     "metadata": {},
     "output_type": "display_data"
    },
    {
     "data": {
      "image/png": "[encoded data removed]",
      "image/svg+xml": [
       "<?xml version=\"1.0\" encoding=\"UTF-8\"?>\n",
       "<svg xmlns=\"http://www.w3.org/2000/svg\" xmlns:xlink=\"http://www.w3.org/1999/xlink\" width=\"450pt\" height=\"300pt\" viewBox=\"0 0 450 300\" version=\"1.1\">\n",
       "<defs>\n",
       "<g>\n",
       "<symbol overflow=\"visible\" id=\"glyph-2022-03-2055394.222094s0-0\">\n",
       "<path style=\"stroke:none;\" d=\"M 0.320312 0 L 0.320312 -7.171875 L 6.015625 -7.171875 L 6.015625 0 Z M 5.117188 -0.898438 L 5.117188 -6.273438 L 1.21875 -6.273438 L 1.21875 -0.898438 Z M 5.117188 -0.898438 \"/>\n",
       "</symbol>\n",
       "<symbol overflow=\"visible\" id=\"glyph-2022-03-2055394.222094s0-1\">\n",
       "<path style=\"stroke:none;\" d=\"M 2.703125 -6.992188 C 3.609375 -6.992188 4.265625 -6.621094 4.667969 -5.875 C 4.980469 -5.296875 5.136719 -4.507812 5.136719 -3.507812 C 5.136719 -2.554688 4.996094 -1.769531 4.710938 -1.148438 C 4.300781 -0.257812 3.632812 0.191406 2.699219 0.191406 C 1.859375 0.191406 1.234375 -0.175781 0.824219 -0.902344 C 0.484375 -1.511719 0.3125 -2.328125 0.3125 -3.355469 C 0.3125 -4.148438 0.414062 -4.832031 0.621094 -5.398438 C 1.003906 -6.460938 1.699219 -6.992188 2.703125 -6.992188 Z M 2.695312 -0.609375 C 3.152344 -0.609375 3.515625 -0.8125 3.785156 -1.214844 C 4.054688 -1.617188 4.1875 -2.371094 4.1875 -3.472656 C 4.1875 -4.265625 4.09375 -4.917969 3.898438 -5.433594 C 3.703125 -5.945312 3.320312 -6.203125 2.757812 -6.203125 C 2.242188 -6.203125 1.863281 -5.957031 1.625 -5.472656 C 1.382812 -4.984375 1.265625 -4.265625 1.265625 -3.320312 C 1.265625 -2.609375 1.339844 -2.035156 1.492188 -1.601562 C 1.726562 -0.941406 2.128906 -0.609375 2.695312 -0.609375 Z M 2.695312 -0.609375 \"/>\n",
       "</symbol>\n",
       "<symbol overflow=\"visible\" id=\"glyph-2022-03-2055394.222094s0-2\">\n",
       "<path style=\"stroke:none;\" d=\"M 0.855469 -1.0625 L 1.875 -1.0625 L 1.875 0 L 0.855469 0 Z M 0.855469 -1.0625 \"/>\n",
       "</symbol>\n",
       "<symbol overflow=\"visible\" id=\"glyph-2022-03-2055394.222094s0-3\">\n",
       "<path style=\"stroke:none;\" d=\"M 2.820312 -5.347656 C 3.191406 -5.347656 3.554688 -5.257812 3.902344 -5.085938 C 4.25 -4.910156 4.515625 -4.6875 4.695312 -4.410156 C 4.871094 -4.144531 4.992188 -3.835938 5.046875 -3.484375 C 5.101562 -3.246094 5.125 -2.859375 5.125 -2.335938 L 1.292969 -2.335938 C 1.308594 -1.804688 1.4375 -1.378906 1.671875 -1.058594 C 1.90625 -0.738281 2.265625 -0.578125 2.757812 -0.578125 C 3.21875 -0.578125 3.585938 -0.726562 3.859375 -1.03125 C 4.015625 -1.207031 4.125 -1.410156 4.1875 -1.640625 L 5.054688 -1.640625 C 5.03125 -1.449219 4.957031 -1.234375 4.828125 -1 C 4.699219 -0.761719 4.554688 -0.570312 4.394531 -0.421875 C 4.128906 -0.160156 3.796875 0.015625 3.402344 0.109375 C 3.191406 0.160156 2.953125 0.1875 2.6875 0.1875 C 2.035156 0.1875 1.484375 -0.0507812 1.03125 -0.523438 C 0.578125 -1 0.351562 -1.660156 0.351562 -2.515625 C 0.351562 -3.355469 0.578125 -4.035156 1.035156 -4.5625 C 1.492188 -5.085938 2.085938 -5.347656 2.820312 -5.347656 Z M 4.222656 -3.03125 C 4.1875 -3.414062 4.105469 -3.71875 3.976562 -3.945312 C 3.734375 -4.367188 3.332031 -4.578125 2.769531 -4.578125 C 2.367188 -4.578125 2.027344 -4.433594 1.753906 -4.144531 C 1.480469 -3.851562 1.335938 -3.480469 1.320312 -3.03125 Z M 4.222656 -3.03125 \"/>\n",
       "</symbol>\n",
       "<symbol overflow=\"visible\" id=\"glyph-2022-03-2055394.222094s0-4\">\n",
       "<path style=\"stroke:none;\" d=\"M 1.234375 -1.78125 C 1.292969 -1.28125 1.527344 -0.933594 1.933594 -0.742188 C 2.140625 -0.644531 2.382812 -0.59375 2.65625 -0.59375 C 3.175781 -0.59375 3.5625 -0.761719 3.8125 -1.09375 C 4.0625 -1.425781 4.1875 -1.792969 4.1875 -2.195312 C 4.1875 -2.683594 4.039062 -3.0625 3.742188 -3.328125 C 3.445312 -3.597656 3.085938 -3.730469 2.671875 -3.730469 C 2.367188 -3.730469 2.109375 -3.671875 1.890625 -3.554688 C 1.675781 -3.4375 1.492188 -3.273438 1.335938 -3.066406 L 0.578125 -3.109375 L 1.109375 -6.875 L 4.742188 -6.875 L 4.742188 -6.023438 L 1.765625 -6.023438 L 1.46875 -4.082031 C 1.632812 -4.207031 1.789062 -4.296875 1.933594 -4.359375 C 2.195312 -4.46875 2.496094 -4.523438 2.835938 -4.523438 C 3.476562 -4.523438 4.023438 -4.316406 4.46875 -3.902344 C 4.914062 -3.488281 5.136719 -2.964844 5.136719 -2.328125 C 5.136719 -1.667969 4.933594 -1.085938 4.523438 -0.582031 C 4.117188 -0.078125 3.464844 0.175781 2.570312 0.175781 C 2 0.175781 1.496094 0.015625 1.058594 -0.304688 C 0.621094 -0.625 0.375 -1.117188 0.320312 -1.78125 Z M 1.234375 -1.78125 \"/>\n",
       "</symbol>\n",
       "<symbol overflow=\"visible\" id=\"glyph-2022-03-2055394.222094s0-5\">\n",
       "<path style=\"stroke:none;\" d=\"M 0.957031 -4.953125 L 0.957031 -5.625 C 1.59375 -5.6875 2.035156 -5.789062 2.285156 -5.933594 C 2.535156 -6.078125 2.722656 -6.421875 2.847656 -6.960938 L 3.539062 -6.960938 L 3.539062 0 L 2.601562 0 L 2.601562 -4.953125 Z M 0.957031 -4.953125 \"/>\n",
       "</symbol>\n",
       "<symbol overflow=\"visible\" id=\"glyph-2022-03-2055394.222094s0-6\">\n",
       "<path style=\"stroke:none;\" d=\"M 2.925781 -7.023438 C 3.707031 -7.023438 4.25 -6.820312 4.558594 -6.414062 C 4.867188 -6.007812 5.019531 -5.589844 5.019531 -5.160156 L 4.148438 -5.160156 C 4.097656 -5.4375 4.015625 -5.65625 3.902344 -5.8125 C 3.691406 -6.105469 3.367188 -6.25 2.9375 -6.25 C 2.445312 -6.25 2.058594 -6.023438 1.765625 -5.570312 C 1.476562 -5.117188 1.316406 -4.464844 1.285156 -3.617188 C 1.484375 -3.914062 1.738281 -4.136719 2.046875 -4.28125 C 2.328125 -4.414062 2.636719 -4.476562 2.984375 -4.476562 C 3.570312 -4.476562 4.082031 -4.289062 4.515625 -3.914062 C 4.953125 -3.539062 5.171875 -2.984375 5.171875 -2.242188 C 5.171875 -1.605469 4.964844 -1.042969 4.550781 -0.554688 C 4.136719 -0.0625 3.546875 0.179688 2.78125 0.179688 C 2.128906 0.179688 1.5625 -0.0664062 1.089844 -0.5625 C 0.613281 -1.058594 0.375 -1.894531 0.375 -3.070312 C 0.375 -3.941406 0.480469 -4.679688 0.695312 -5.28125 C 1.101562 -6.441406 1.84375 -7.023438 2.925781 -7.023438 Z M 2.859375 -0.601562 C 3.324219 -0.601562 3.667969 -0.757812 3.898438 -1.066406 C 4.128906 -1.378906 4.242188 -1.746094 4.242188 -2.167969 C 4.242188 -2.527344 4.140625 -2.867188 3.9375 -3.191406 C 3.730469 -3.515625 3.359375 -3.675781 2.816406 -3.675781 C 2.4375 -3.675781 2.109375 -3.550781 1.824219 -3.300781 C 1.539062 -3.050781 1.398438 -2.671875 1.398438 -2.167969 C 1.398438 -1.726562 1.527344 -1.351562 1.785156 -1.050781 C 2.042969 -0.75 2.402344 -0.601562 2.859375 -0.601562 Z M 2.859375 -0.601562 \"/>\n",
       "</symbol>\n",
       "<symbol overflow=\"visible\" id=\"glyph-2022-03-2055394.222094s0-7\">\n",
       "<path style=\"stroke:none;\" d=\"M 0.3125 0 C 0.34375 -0.601562 0.46875 -1.125 0.6875 -1.570312 C 0.902344 -2.015625 1.324219 -2.421875 1.953125 -2.789062 L 2.890625 -3.328125 C 3.3125 -3.574219 3.605469 -3.78125 3.773438 -3.953125 C 4.039062 -4.226562 4.175781 -4.535156 4.175781 -4.882812 C 4.175781 -5.289062 4.054688 -5.613281 3.808594 -5.851562 C 3.5625 -6.089844 3.238281 -6.210938 2.832031 -6.210938 C 2.230469 -6.210938 1.8125 -5.984375 1.582031 -5.527344 C 1.457031 -5.28125 1.390625 -4.945312 1.375 -4.511719 L 0.484375 -4.511719 C 0.492188 -5.121094 0.605469 -5.617188 0.820312 -6 C 1.203125 -6.679688 1.875 -7.015625 2.835938 -7.015625 C 3.636719 -7.015625 4.222656 -6.800781 4.59375 -6.367188 C 4.960938 -5.933594 5.148438 -5.453125 5.148438 -4.921875 C 5.148438 -4.363281 4.949219 -3.882812 4.554688 -3.484375 C 4.328125 -3.253906 3.917969 -2.976562 3.328125 -2.648438 L 2.660156 -2.273438 C 2.34375 -2.097656 2.089844 -1.933594 1.910156 -1.773438 C 1.585938 -1.488281 1.378906 -1.175781 1.292969 -0.828125 L 5.113281 -0.828125 L 5.113281 0 Z M 0.3125 0 \"/>\n",
       "</symbol>\n",
       "<symbol overflow=\"visible\" id=\"glyph-2022-03-2055394.222094s0-8\">\n",
       "<path style=\"stroke:none;\" d=\"M 2.597656 0.191406 C 1.769531 0.191406 1.171875 -0.0351562 0.796875 -0.492188 C 0.425781 -0.945312 0.238281 -1.496094 0.238281 -2.148438 L 1.15625 -2.148438 C 1.195312 -1.695312 1.28125 -1.367188 1.410156 -1.164062 C 1.640625 -0.796875 2.050781 -0.609375 2.648438 -0.609375 C 3.109375 -0.609375 3.480469 -0.734375 3.757812 -0.980469 C 4.039062 -1.226562 4.179688 -1.546875 4.179688 -1.9375 C 4.179688 -2.421875 4.03125 -2.757812 3.738281 -2.949219 C 3.445312 -3.140625 3.035156 -3.238281 2.507812 -3.238281 C 2.449219 -3.238281 2.390625 -3.238281 2.332031 -3.234375 C 2.273438 -3.234375 2.210938 -3.230469 2.148438 -3.226562 L 2.148438 -4.003906 C 2.238281 -3.992188 2.316406 -3.988281 2.378906 -3.984375 C 2.441406 -3.980469 2.507812 -3.980469 2.578125 -3.980469 C 2.90625 -3.980469 3.175781 -4.03125 3.390625 -4.136719 C 3.761719 -4.320312 3.945312 -4.644531 3.945312 -5.113281 C 3.945312 -5.460938 3.820312 -5.730469 3.574219 -5.917969 C 3.328125 -6.105469 3.039062 -6.203125 2.710938 -6.203125 C 2.125 -6.203125 1.71875 -6.007812 1.492188 -5.617188 C 1.371094 -5.402344 1.300781 -5.09375 1.285156 -4.695312 L 0.414062 -4.695312 C 0.414062 -5.21875 0.519531 -5.660156 0.726562 -6.023438 C 1.085938 -6.675781 1.714844 -7 2.617188 -7 C 3.328125 -7 3.882812 -6.84375 4.273438 -6.527344 C 4.664062 -6.210938 4.859375 -5.75 4.859375 -5.148438 C 4.859375 -4.71875 4.742188 -4.367188 4.511719 -4.101562 C 4.367188 -3.9375 4.183594 -3.804688 3.953125 -3.710938 C 4.320312 -3.609375 4.609375 -3.414062 4.816406 -3.128906 C 5.023438 -2.839844 5.125 -2.488281 5.125 -2.070312 C 5.125 -1.402344 4.90625 -0.859375 4.46875 -0.4375 C 4.027344 -0.0195312 3.40625 0.191406 2.597656 0.191406 Z M 2.597656 0.191406 \"/>\n",
       "</symbol>\n",
       "<symbol overflow=\"visible\" id=\"glyph-2022-03-2055394.222094s0-9\">\n",
       "<path style=\"stroke:none;\" d=\"M 3.304688 -2.476562 L 3.304688 -5.644531 L 1.0625 -2.476562 Z M 3.320312 0 L 3.320312 -1.710938 L 0.253906 -1.710938 L 0.253906 -2.570312 L 3.457031 -7.011719 L 4.199219 -7.011719 L 4.199219 -2.476562 L 5.230469 -2.476562 L 5.230469 -1.710938 L 4.199219 -1.710938 L 4.199219 0 Z M 3.320312 0 \"/>\n",
       "</symbol>\n",
       "<symbol overflow=\"visible\" id=\"glyph-2022-03-2055394.222094s0-10\">\n",
       "<path style=\"stroke:none;\" d=\"M 5.230469 -6.875 L 5.230469 -6.109375 C 5.003906 -5.890625 4.707031 -5.511719 4.332031 -4.96875 C 3.960938 -4.429688 3.632812 -3.847656 3.34375 -3.222656 C 3.0625 -2.613281 2.847656 -2.058594 2.699219 -1.558594 C 2.605469 -1.234375 2.484375 -0.714844 2.335938 0 L 1.363281 0 C 1.585938 -1.335938 2.070312 -2.664062 2.828125 -3.984375 C 3.273438 -4.757812 3.742188 -5.429688 4.234375 -5.992188 L 0.367188 -5.992188 L 0.367188 -6.875 Z M 5.230469 -6.875 \"/>\n",
       "</symbol>\n",
       "<symbol overflow=\"visible\" id=\"glyph-2022-03-2055394.222094s0-11\">\n",
       "<path style=\"stroke:none;\" d=\"M 3.457031 -4.140625 C 3.867188 -4.140625 4.1875 -4.199219 4.414062 -4.3125 C 4.773438 -4.492188 4.953125 -4.8125 4.953125 -5.277344 C 4.953125 -5.746094 4.761719 -6.0625 4.378906 -6.226562 C 4.164062 -6.316406 3.847656 -6.363281 3.421875 -6.363281 L 1.6875 -6.363281 L 1.6875 -4.140625 Z M 3.785156 -0.828125 C 4.378906 -0.828125 4.804688 -1.003906 5.058594 -1.347656 C 5.21875 -1.566406 5.296875 -1.828125 5.296875 -2.140625 C 5.296875 -2.660156 5.066406 -3.015625 4.601562 -3.203125 C 4.351562 -3.304688 4.023438 -3.355469 3.617188 -3.355469 L 1.6875 -3.355469 L 1.6875 -0.828125 Z M 0.738281 -7.171875 L 3.820312 -7.171875 C 4.660156 -7.171875 5.253906 -6.921875 5.609375 -6.421875 C 5.820312 -6.125 5.921875 -5.78125 5.921875 -5.394531 C 5.921875 -4.941406 5.792969 -4.570312 5.539062 -4.28125 C 5.40625 -4.128906 5.210938 -3.988281 4.960938 -3.863281 C 5.328125 -3.722656 5.605469 -3.5625 5.785156 -3.390625 C 6.109375 -3.078125 6.269531 -2.644531 6.269531 -2.09375 C 6.269531 -1.632812 6.125 -1.214844 5.835938 -0.839844 C 5.402344 -0.28125 4.714844 0 3.769531 0 L 0.738281 0 Z M 0.738281 -7.171875 \"/>\n",
       "</symbol>\n",
       "<symbol overflow=\"visible\" id=\"glyph-2022-03-2055394.222094s0-12\">\n",
       "<path style=\"stroke:none;\" d=\"M 1.167969 -1.640625 C 1.195312 -1.347656 1.265625 -1.125 1.386719 -0.96875 C 1.609375 -0.683594 1.992188 -0.542969 2.539062 -0.542969 C 2.863281 -0.542969 3.152344 -0.613281 3.398438 -0.753906 C 3.644531 -0.894531 3.769531 -1.113281 3.769531 -1.410156 C 3.769531 -1.636719 3.671875 -1.804688 3.472656 -1.921875 C 3.34375 -1.996094 3.09375 -2.078125 2.71875 -2.171875 L 2.023438 -2.347656 C 1.578125 -2.460938 1.246094 -2.582031 1.035156 -2.71875 C 0.65625 -2.957031 0.46875 -3.285156 0.46875 -3.707031 C 0.46875 -4.203125 0.648438 -4.601562 1.003906 -4.90625 C 1.359375 -5.210938 1.839844 -5.367188 2.441406 -5.367188 C 3.230469 -5.367188 3.796875 -5.136719 4.144531 -4.671875 C 4.363281 -4.378906 4.46875 -4.0625 4.460938 -3.726562 L 3.632812 -3.726562 C 3.617188 -3.925781 3.546875 -4.105469 3.421875 -4.265625 C 3.21875 -4.5 2.871094 -4.613281 2.375 -4.613281 C 2.042969 -4.613281 1.789062 -4.550781 1.617188 -4.421875 C 1.445312 -4.296875 1.363281 -4.128906 1.363281 -3.921875 C 1.363281 -3.695312 1.476562 -3.511719 1.699219 -3.375 C 1.828125 -3.292969 2.023438 -3.222656 2.273438 -3.160156 L 2.855469 -3.015625 C 3.488281 -2.863281 3.910156 -2.714844 4.125 -2.574219 C 4.46875 -2.347656 4.640625 -1.996094 4.640625 -1.515625 C 4.640625 -1.046875 4.460938 -0.644531 4.109375 -0.308594 C 3.757812 0.03125 3.21875 0.199219 2.496094 0.199219 C 1.71875 0.199219 1.167969 0.0234375 0.84375 -0.328125 C 0.519531 -0.683594 0.34375 -1.121094 0.320312 -1.640625 Z M 1.167969 -1.640625 \"/>\n",
       "</symbol>\n",
       "<symbol overflow=\"visible\" id=\"glyph-2022-03-2055394.222094s0-13\">\n",
       "<path style=\"stroke:none;\" d=\"M 0.820312 -6.6875 L 1.710938 -6.6875 L 1.710938 -5.230469 L 2.542969 -5.230469 L 2.542969 -4.511719 L 1.710938 -4.511719 L 1.710938 -1.097656 C 1.710938 -0.914062 1.769531 -0.792969 1.894531 -0.734375 C 1.960938 -0.695312 2.078125 -0.679688 2.234375 -0.679688 C 2.277344 -0.679688 2.324219 -0.679688 2.375 -0.679688 C 2.421875 -0.683594 2.480469 -0.6875 2.542969 -0.695312 L 2.542969 0 C 2.441406 0.03125 2.339844 0.0507812 2.230469 0.0625 C 2.121094 0.078125 2 0.0820312 1.875 0.0820312 C 1.464844 0.0820312 1.1875 -0.0234375 1.039062 -0.230469 C 0.894531 -0.441406 0.820312 -0.714844 0.820312 -1.050781 L 0.820312 -4.511719 L 0.113281 -4.511719 L 0.113281 -5.230469 L 0.820312 -5.230469 Z M 0.820312 -6.6875 \"/>\n",
       "</symbol>\n",
       "<symbol overflow=\"visible\" id=\"glyph-2022-03-2055394.222094s0-14\">\n",
       "<g>\n",
       "</g>\n",
       "</symbol>\n",
       "<symbol overflow=\"visible\" id=\"glyph-2022-03-2055394.222094s0-15\">\n",
       "<path style=\"stroke:none;\" d=\"M 2.71875 -0.566406 C 3.300781 -0.566406 3.703125 -0.785156 3.917969 -1.226562 C 4.132812 -1.667969 4.242188 -2.160156 4.242188 -2.699219 C 4.242188 -3.1875 4.164062 -3.585938 4.007812 -3.890625 C 3.761719 -4.375 3.335938 -4.613281 2.730469 -4.613281 C 2.191406 -4.613281 1.800781 -4.410156 1.558594 -4 C 1.3125 -3.589844 1.191406 -3.09375 1.191406 -2.515625 C 1.191406 -1.957031 1.3125 -1.492188 1.558594 -1.125 C 1.800781 -0.753906 2.1875 -0.566406 2.71875 -0.566406 Z M 2.753906 -5.382812 C 3.429688 -5.382812 3.996094 -5.15625 4.460938 -4.707031 C 4.929688 -4.257812 5.160156 -3.597656 5.160156 -2.726562 C 5.160156 -1.882812 4.957031 -1.183594 4.546875 -0.632812 C 4.136719 -0.0859375 3.5 0.191406 2.636719 0.191406 C 1.917969 0.191406 1.347656 -0.0546875 0.921875 -0.539062 C 0.5 -1.027344 0.289062 -1.679688 0.289062 -2.5 C 0.289062 -3.378906 0.511719 -4.078125 0.957031 -4.601562 C 1.402344 -5.121094 2 -5.382812 2.753906 -5.382812 Z M 2.753906 -5.382812 \"/>\n",
       "</symbol>\n",
       "<symbol overflow=\"visible\" id=\"glyph-2022-03-2055394.222094s0-16\">\n",
       "<path style=\"stroke:none;\" d=\"M 0.863281 -6.023438 C 0.875 -6.390625 0.941406 -6.65625 1.054688 -6.828125 C 1.257812 -7.125 1.65625 -7.273438 2.242188 -7.273438 C 2.296875 -7.273438 2.351562 -7.273438 2.414062 -7.269531 C 2.472656 -7.265625 2.539062 -7.261719 2.613281 -7.257812 L 2.613281 -6.453125 C 2.523438 -6.460938 2.457031 -6.464844 2.414062 -6.46875 C 2.375 -6.46875 2.335938 -6.46875 2.300781 -6.46875 C 2.03125 -6.46875 1.875 -6.402344 1.820312 -6.261719 C 1.769531 -6.125 1.742188 -5.773438 1.742188 -5.203125 L 2.613281 -5.203125 L 2.613281 -4.511719 L 1.734375 -4.511719 L 1.734375 0 L 0.863281 0 L 0.863281 -4.511719 L 0.136719 -4.511719 L 0.136719 -5.203125 L 0.863281 -5.203125 Z M 0.863281 -6.023438 \"/>\n",
       "</symbol>\n",
       "<symbol overflow=\"visible\" id=\"glyph-2022-03-2055394.222094s0-17\">\n",
       "<path style=\"stroke:none;\" d=\"M 1.320312 -1.390625 C 1.320312 -1.136719 1.410156 -0.9375 1.597656 -0.789062 C 1.78125 -0.644531 2 -0.570312 2.257812 -0.570312 C 2.566406 -0.570312 2.863281 -0.644531 3.15625 -0.785156 C 3.644531 -1.023438 3.886719 -1.414062 3.886719 -1.953125 L 3.886719 -2.660156 C 3.78125 -2.59375 3.640625 -2.535156 3.472656 -2.492188 C 3.304688 -2.445312 3.136719 -2.414062 2.972656 -2.390625 L 2.441406 -2.324219 C 2.121094 -2.28125 1.882812 -2.214844 1.722656 -2.125 C 1.453125 -1.972656 1.320312 -1.726562 1.320312 -1.390625 Z M 3.445312 -3.167969 C 3.648438 -3.195312 3.785156 -3.28125 3.851562 -3.421875 C 3.890625 -3.5 3.910156 -3.613281 3.910156 -3.757812 C 3.910156 -4.058594 3.804688 -4.277344 3.589844 -4.410156 C 3.378906 -4.546875 3.074219 -4.613281 2.675781 -4.613281 C 2.21875 -4.613281 1.890625 -4.492188 1.699219 -4.242188 C 1.59375 -4.105469 1.523438 -3.902344 1.488281 -3.632812 L 0.667969 -3.632812 C 0.683594 -4.277344 0.894531 -4.726562 1.296875 -4.976562 C 1.699219 -5.230469 2.164062 -5.355469 2.695312 -5.355469 C 3.3125 -5.355469 3.808594 -5.238281 4.195312 -5.003906 C 4.574219 -4.769531 4.765625 -4.40625 4.765625 -3.910156 L 4.765625 -0.898438 C 4.765625 -0.808594 4.785156 -0.734375 4.820312 -0.679688 C 4.859375 -0.625 4.9375 -0.59375 5.058594 -0.59375 C 5.097656 -0.59375 5.140625 -0.597656 5.191406 -0.601562 C 5.238281 -0.609375 5.292969 -0.617188 5.347656 -0.625 L 5.347656 0.0234375 C 5.210938 0.0625 5.105469 0.0859375 5.035156 0.0976562 C 4.960938 0.109375 4.863281 0.113281 4.742188 0.113281 C 4.4375 0.113281 4.21875 0.00390625 4.082031 -0.210938 C 4.011719 -0.324219 3.960938 -0.484375 3.929688 -0.695312 C 3.75 -0.460938 3.496094 -0.253906 3.160156 -0.0820312 C 2.824219 0.0898438 2.453125 0.175781 2.050781 0.175781 C 1.566406 0.175781 1.167969 0.0273438 0.863281 -0.265625 C 0.554688 -0.5625 0.398438 -0.929688 0.398438 -1.371094 C 0.398438 -1.855469 0.550781 -2.234375 0.855469 -2.5 C 1.15625 -2.765625 1.554688 -2.929688 2.046875 -2.992188 Z M 3.445312 -3.167969 \"/>\n",
       "</symbol>\n",
       "<symbol overflow=\"visible\" id=\"glyph-2022-03-2055394.222094s0-18\">\n",
       "<path style=\"stroke:none;\" d=\"M 0.667969 -7.171875 L 1.546875 -7.171875 L 1.546875 0 L 0.667969 0 Z M 0.667969 -7.171875 \"/>\n",
       "</symbol>\n",
       "</g>\n",
       "<clipPath id=\"clip-2022-03-2055394.222094s1\">\n",
       "  <path d=\"M 44.320312 21 L 393 21 L 393 244 L 44.320312 244 Z M 44.320312 21 \"/>\n",
       "</clipPath>\n",
       "</defs>\n",
       "<g id=\"surface56\">\n",
       "<rect x=\"0\" y=\"0\" width=\"450\" height=\"300\" style=\"fill:rgb(100%,100%,100%);fill-opacity:1;stroke:none;\"/>\n",
       "<path style=\"fill:none;stroke-width:1;stroke-linecap:butt;stroke-linejoin:miter;stroke:rgb(82.745098%,82.745098%,82.745098%);stroke-opacity:1;stroke-dasharray:5,5;stroke-miterlimit:10;\" d=\"M -0.000976562 0 L -0.000976562 235 \" transform=\"matrix(1,0,0,1,44.321289,15)\"/>\n",
       "<path style=\"fill:none;stroke-width:1;stroke-linecap:butt;stroke-linejoin:miter;stroke:rgb(82.745098%,82.745098%,82.745098%);stroke-opacity:1;stroke-dasharray:5,5;stroke-miterlimit:10;\" d=\"M 54.59668 0 L 54.59668 235 \" transform=\"matrix(1,0,0,1,44.321289,15)\"/>\n",
       "<path style=\"fill:none;stroke-width:1;stroke-linecap:butt;stroke-linejoin:miter;stroke:rgb(82.745098%,82.745098%,82.745098%);stroke-opacity:1;stroke-dasharray:5,5;stroke-miterlimit:10;\" d=\"M 109.19043 0 L 109.19043 235 \" transform=\"matrix(1,0,0,1,44.321289,15)\"/>\n",
       "<path style=\"fill:none;stroke-width:1;stroke-linecap:butt;stroke-linejoin:miter;stroke:rgb(82.745098%,82.745098%,82.745098%);stroke-opacity:1;stroke-dasharray:5,5;stroke-miterlimit:10;\" d=\"M 163.788086 0 L 163.788086 235 \" transform=\"matrix(1,0,0,1,44.321289,15)\"/>\n",
       "<path style=\"fill:none;stroke-width:1;stroke-linecap:butt;stroke-linejoin:miter;stroke:rgb(82.745098%,82.745098%,82.745098%);stroke-opacity:1;stroke-dasharray:5,5;stroke-miterlimit:10;\" d=\"M 218.381836 0 L 218.381836 235 \" transform=\"matrix(1,0,0,1,44.321289,15)\"/>\n",
       "<path style=\"fill:none;stroke-width:1;stroke-linecap:butt;stroke-linejoin:miter;stroke:rgb(82.745098%,82.745098%,82.745098%);stroke-opacity:1;stroke-dasharray:5,5;stroke-miterlimit:10;\" d=\"M 272.979492 0 L 272.979492 235 \" transform=\"matrix(1,0,0,1,44.321289,15)\"/>\n",
       "<path style=\"fill:none;stroke-width:1;stroke-linecap:butt;stroke-linejoin:miter;stroke:rgb(82.745098%,82.745098%,82.745098%);stroke-opacity:1;stroke-dasharray:5,5;stroke-miterlimit:10;\" d=\"M 327.573242 0 L 327.573242 235 \" transform=\"matrix(1,0,0,1,44.321289,15)\"/>\n",
       "<path style=\"fill:none;stroke-width:1;stroke-linecap:butt;stroke-linejoin:miter;stroke:rgb(82.745098%,82.745098%,82.745098%);stroke-opacity:1;stroke-dasharray:5,5;stroke-miterlimit:10;\" d=\"M 382.170898 0 L 382.170898 235 \" transform=\"matrix(1,0,0,1,44.321289,15)\"/>\n",
       "<path style=\"fill:none;stroke-width:1;stroke-linecap:butt;stroke-linejoin:miter;stroke:rgb(82.745098%,82.745098%,82.745098%);stroke-opacity:1;stroke-dasharray:5,5;stroke-miterlimit:10;\" d=\"M -0.000976562 235 L 382.170898 235 \" transform=\"matrix(1,0,0,1,44.321289,15)\"/>\n",
       "<path style=\"fill:none;stroke-width:1;stroke-linecap:butt;stroke-linejoin:miter;stroke:rgb(82.745098%,82.745098%,82.745098%);stroke-opacity:1;stroke-dasharray:5,5;stroke-miterlimit:10;\" d=\"M -0.000976562 176.25 L 382.170898 176.25 \" transform=\"matrix(1,0,0,1,44.321289,15)\"/>\n",
       "<path style=\"fill:none;stroke-width:1;stroke-linecap:butt;stroke-linejoin:miter;stroke:rgb(82.745098%,82.745098%,82.745098%);stroke-opacity:1;stroke-dasharray:5,5;stroke-miterlimit:10;\" d=\"M -0.000976562 117.5 L 382.170898 117.5 \" transform=\"matrix(1,0,0,1,44.321289,15)\"/>\n",
       "<path style=\"fill:none;stroke-width:1;stroke-linecap:butt;stroke-linejoin:miter;stroke:rgb(82.745098%,82.745098%,82.745098%);stroke-opacity:1;stroke-dasharray:5,5;stroke-miterlimit:10;\" d=\"M -0.000976562 58.75 L 382.170898 58.75 \" transform=\"matrix(1,0,0,1,44.321289,15)\"/>\n",
       "<path style=\"fill:none;stroke-width:1;stroke-linecap:butt;stroke-linejoin:miter;stroke:rgb(82.745098%,82.745098%,82.745098%);stroke-opacity:1;stroke-dasharray:5,5;stroke-miterlimit:10;\" d=\"M -0.000976562 0 L 382.170898 0 \" transform=\"matrix(1,0,0,1,44.321289,15)\"/>\n",
       "<g clip-path=\"url(#clip-2022-03-2055394.222094s1)\" clip-rule=\"nonzero\">\n",
       "<path style=\"fill:none;stroke-width:1;stroke-linecap:round;stroke-linejoin:round;stroke:rgb(0%,0%,100%);stroke-opacity:1;stroke-miterlimit:10;\" d=\"M 0.174805 6.789062 L 0.260742 6.789062 L 0.260742 24.320312 L 0.350586 24.320312 L 0.350586 24.90625 L 0.522461 24.90625 L 0.522461 25.371094 L 0.655273 25.371094 L 0.655273 25.546875 L 1.916992 25.546875 L 1.916992 25.65625 L 2.643555 25.65625 L 2.643555 26.164062 L 2.729492 26.164062 L 2.729492 26.269531 L 3.561523 26.269531 L 3.561523 26.332031 L 4.819336 26.332031 L 4.819336 26.445312 L 4.979492 26.445312 L 4.979492 27 L 6.241211 27 L 6.241211 27.109375 L 29.541992 27.109375 L 29.541992 27.605469 L 29.62793 27.605469 L 29.62793 28.199219 L 29.979492 28.199219 L 29.979492 28.996094 L 296.920898 28.996094 L 296.920898 204.769531 L 297.006836 204.769531 L 297.006836 205.023438 L 297.268555 205.023438 L 297.268555 220.269531 L 297.881836 220.269531 L 297.881836 220.726562 L 298.948242 220.726562 L 298.948242 222.390625 L 300.166992 222.390625 L 300.166992 222.5 L 300.936523 222.5 L 300.936523 223.277344 L 302.198242 223.277344 L 302.198242 225.984375 L 331.370117 225.984375 L 331.370117 227.867188 L 347.936523 227.867188 \" transform=\"matrix(1,0,0,1,44.321289,15)\"/>\n",
       "</g>\n",
       "<path style=\"fill:none;stroke-width:1;stroke-linecap:square;stroke-linejoin:miter;stroke:rgb(0%,0%,0%);stroke-opacity:1;stroke-miterlimit:10;\" d=\"M 34.320312 235 L 34.320312 0 \" transform=\"matrix(1,0,0,1,10,15)\"/>\n",
       "<path style=\"fill:none;stroke-width:1;stroke-linecap:butt;stroke-linejoin:miter;stroke:rgb(0%,0%,0%);stroke-opacity:1;stroke-miterlimit:10;\" d=\"M 34.320312 235 L 36.320312 235 \" transform=\"matrix(1,0,0,1,10,15)\"/>\n",
       "<path style=\"fill:none;stroke-width:1;stroke-linecap:butt;stroke-linejoin:miter;stroke:rgb(0%,0%,0%);stroke-opacity:1;stroke-miterlimit:10;\" d=\"M 34.320312 229.125 L 36.320312 229.125 \" transform=\"matrix(1,0,0,1,10,15)\"/>\n",
       "<path style=\"fill:none;stroke-width:1;stroke-linecap:butt;stroke-linejoin:miter;stroke:rgb(0%,0%,0%);stroke-opacity:1;stroke-miterlimit:10;\" d=\"M 34.320312 223.25 L 36.320312 223.25 \" transform=\"matrix(1,0,0,1,10,15)\"/>\n",
       "<path style=\"fill:none;stroke-width:1;stroke-linecap:butt;stroke-linejoin:miter;stroke:rgb(0%,0%,0%);stroke-opacity:1;stroke-miterlimit:10;\" d=\"M 34.320312 217.375 L 36.320312 217.375 \" transform=\"matrix(1,0,0,1,10,15)\"/>\n",
       "<path style=\"fill:none;stroke-width:1;stroke-linecap:butt;stroke-linejoin:miter;stroke:rgb(0%,0%,0%);stroke-opacity:1;stroke-miterlimit:10;\" d=\"M 34.320312 211.5 L 36.320312 211.5 \" transform=\"matrix(1,0,0,1,10,15)\"/>\n",
       "<path style=\"fill:none;stroke-width:1;stroke-linecap:butt;stroke-linejoin:miter;stroke:rgb(0%,0%,0%);stroke-opacity:1;stroke-miterlimit:10;\" d=\"M 34.320312 205.625 L 36.320312 205.625 \" transform=\"matrix(1,0,0,1,10,15)\"/>\n",
       "<path style=\"fill:none;stroke-width:1;stroke-linecap:butt;stroke-linejoin:miter;stroke:rgb(0%,0%,0%);stroke-opacity:1;stroke-miterlimit:10;\" d=\"M 34.320312 199.75 L 36.320312 199.75 \" transform=\"matrix(1,0,0,1,10,15)\"/>\n",
       "<path style=\"fill:none;stroke-width:1;stroke-linecap:butt;stroke-linejoin:miter;stroke:rgb(0%,0%,0%);stroke-opacity:1;stroke-miterlimit:10;\" d=\"M 34.320312 193.875 L 36.320312 193.875 \" transform=\"matrix(1,0,0,1,10,15)\"/>\n",
       "<path style=\"fill:none;stroke-width:1;stroke-linecap:butt;stroke-linejoin:miter;stroke:rgb(0%,0%,0%);stroke-opacity:1;stroke-miterlimit:10;\" d=\"M 34.320312 188 L 36.320312 188 \" transform=\"matrix(1,0,0,1,10,15)\"/>\n",
       "<path style=\"fill:none;stroke-width:1;stroke-linecap:butt;stroke-linejoin:miter;stroke:rgb(0%,0%,0%);stroke-opacity:1;stroke-miterlimit:10;\" d=\"M 34.320312 182.125 L 36.320312 182.125 \" transform=\"matrix(1,0,0,1,10,15)\"/>\n",
       "<path style=\"fill:none;stroke-width:1;stroke-linecap:butt;stroke-linejoin:miter;stroke:rgb(0%,0%,0%);stroke-opacity:1;stroke-miterlimit:10;\" d=\"M 34.320312 176.25 L 36.320312 176.25 \" transform=\"matrix(1,0,0,1,10,15)\"/>\n",
       "<path style=\"fill:none;stroke-width:1;stroke-linecap:butt;stroke-linejoin:miter;stroke:rgb(0%,0%,0%);stroke-opacity:1;stroke-miterlimit:10;\" d=\"M 34.320312 170.375 L 36.320312 170.375 \" transform=\"matrix(1,0,0,1,10,15)\"/>\n",
       "<path style=\"fill:none;stroke-width:1;stroke-linecap:butt;stroke-linejoin:miter;stroke:rgb(0%,0%,0%);stroke-opacity:1;stroke-miterlimit:10;\" d=\"M 34.320312 164.5 L 36.320312 164.5 \" transform=\"matrix(1,0,0,1,10,15)\"/>\n",
       "<path style=\"fill:none;stroke-width:1;stroke-linecap:butt;stroke-linejoin:miter;stroke:rgb(0%,0%,0%);stroke-opacity:1;stroke-miterlimit:10;\" d=\"M 34.320312 158.625 L 36.320312 158.625 \" transform=\"matrix(1,0,0,1,10,15)\"/>\n",
       "<path style=\"fill:none;stroke-width:1;stroke-linecap:butt;stroke-linejoin:miter;stroke:rgb(0%,0%,0%);stroke-opacity:1;stroke-miterlimit:10;\" d=\"M 34.320312 152.75 L 36.320312 152.75 \" transform=\"matrix(1,0,0,1,10,15)\"/>\n",
       "<path style=\"fill:none;stroke-width:1;stroke-linecap:butt;stroke-linejoin:miter;stroke:rgb(0%,0%,0%);stroke-opacity:1;stroke-miterlimit:10;\" d=\"M 34.320312 146.875 L 36.320312 146.875 \" transform=\"matrix(1,0,0,1,10,15)\"/>\n",
       "<path style=\"fill:none;stroke-width:1;stroke-linecap:butt;stroke-linejoin:miter;stroke:rgb(0%,0%,0%);stroke-opacity:1;stroke-miterlimit:10;\" d=\"M 34.320312 141 L 36.320312 141 \" transform=\"matrix(1,0,0,1,10,15)\"/>\n",
       "<path style=\"fill:none;stroke-width:1;stroke-linecap:butt;stroke-linejoin:miter;stroke:rgb(0%,0%,0%);stroke-opacity:1;stroke-miterlimit:10;\" d=\"M 34.320312 135.125 L 36.320312 135.125 \" transform=\"matrix(1,0,0,1,10,15)\"/>\n",
       "<path style=\"fill:none;stroke-width:1;stroke-linecap:butt;stroke-linejoin:miter;stroke:rgb(0%,0%,0%);stroke-opacity:1;stroke-miterlimit:10;\" d=\"M 34.320312 129.25 L 36.320312 129.25 \" transform=\"matrix(1,0,0,1,10,15)\"/>\n",
       "<path style=\"fill:none;stroke-width:1;stroke-linecap:butt;stroke-linejoin:miter;stroke:rgb(0%,0%,0%);stroke-opacity:1;stroke-miterlimit:10;\" d=\"M 34.320312 123.375 L 36.320312 123.375 \" transform=\"matrix(1,0,0,1,10,15)\"/>\n",
       "<path style=\"fill:none;stroke-width:1;stroke-linecap:butt;stroke-linejoin:miter;stroke:rgb(0%,0%,0%);stroke-opacity:1;stroke-miterlimit:10;\" d=\"M 34.320312 117.5 L 36.320312 117.5 \" transform=\"matrix(1,0,0,1,10,15)\"/>\n",
       "<path style=\"fill:none;stroke-width:1;stroke-linecap:butt;stroke-linejoin:miter;stroke:rgb(0%,0%,0%);stroke-opacity:1;stroke-miterlimit:10;\" d=\"M 34.320312 111.625 L 36.320312 111.625 \" transform=\"matrix(1,0,0,1,10,15)\"/>\n",
       "<path style=\"fill:none;stroke-width:1;stroke-linecap:butt;stroke-linejoin:miter;stroke:rgb(0%,0%,0%);stroke-opacity:1;stroke-miterlimit:10;\" d=\"M 34.320312 105.75 L 36.320312 105.75 \" transform=\"matrix(1,0,0,1,10,15)\"/>\n",
       "<path style=\"fill:none;stroke-width:1;stroke-linecap:butt;stroke-linejoin:miter;stroke:rgb(0%,0%,0%);stroke-opacity:1;stroke-miterlimit:10;\" d=\"M 34.320312 99.875 L 36.320312 99.875 \" transform=\"matrix(1,0,0,1,10,15)\"/>\n",
       "<path style=\"fill:none;stroke-width:1;stroke-linecap:butt;stroke-linejoin:miter;stroke:rgb(0%,0%,0%);stroke-opacity:1;stroke-miterlimit:10;\" d=\"M 34.320312 94 L 36.320312 94 \" transform=\"matrix(1,0,0,1,10,15)\"/>\n",
       "<path style=\"fill:none;stroke-width:1;stroke-linecap:butt;stroke-linejoin:miter;stroke:rgb(0%,0%,0%);stroke-opacity:1;stroke-miterlimit:10;\" d=\"M 34.320312 88.125 L 36.320312 88.125 \" transform=\"matrix(1,0,0,1,10,15)\"/>\n",
       "<path style=\"fill:none;stroke-width:1;stroke-linecap:butt;stroke-linejoin:miter;stroke:rgb(0%,0%,0%);stroke-opacity:1;stroke-miterlimit:10;\" d=\"M 34.320312 82.25 L 36.320312 82.25 \" transform=\"matrix(1,0,0,1,10,15)\"/>\n",
       "<path style=\"fill:none;stroke-width:1;stroke-linecap:butt;stroke-linejoin:miter;stroke:rgb(0%,0%,0%);stroke-opacity:1;stroke-miterlimit:10;\" d=\"M 34.320312 76.375 L 36.320312 76.375 \" transform=\"matrix(1,0,0,1,10,15)\"/>\n",
       "<path style=\"fill:none;stroke-width:1;stroke-linecap:butt;stroke-linejoin:miter;stroke:rgb(0%,0%,0%);stroke-opacity:1;stroke-miterlimit:10;\" d=\"M 34.320312 70.5 L 36.320312 70.5 \" transform=\"matrix(1,0,0,1,10,15)\"/>\n",
       "<path style=\"fill:none;stroke-width:1;stroke-linecap:butt;stroke-linejoin:miter;stroke:rgb(0%,0%,0%);stroke-opacity:1;stroke-miterlimit:10;\" d=\"M 34.320312 64.625 L 36.320312 64.625 \" transform=\"matrix(1,0,0,1,10,15)\"/>\n",
       "<path style=\"fill:none;stroke-width:1;stroke-linecap:butt;stroke-linejoin:miter;stroke:rgb(0%,0%,0%);stroke-opacity:1;stroke-miterlimit:10;\" d=\"M 34.320312 58.75 L 36.320312 58.75 \" transform=\"matrix(1,0,0,1,10,15)\"/>\n",
       "<path style=\"fill:none;stroke-width:1;stroke-linecap:butt;stroke-linejoin:miter;stroke:rgb(0%,0%,0%);stroke-opacity:1;stroke-miterlimit:10;\" d=\"M 34.320312 52.875 L 36.320312 52.875 \" transform=\"matrix(1,0,0,1,10,15)\"/>\n",
       "<path style=\"fill:none;stroke-width:1;stroke-linecap:butt;stroke-linejoin:miter;stroke:rgb(0%,0%,0%);stroke-opacity:1;stroke-miterlimit:10;\" d=\"M 34.320312 47 L 36.320312 47 \" transform=\"matrix(1,0,0,1,10,15)\"/>\n",
       "<path style=\"fill:none;stroke-width:1;stroke-linecap:butt;stroke-linejoin:miter;stroke:rgb(0%,0%,0%);stroke-opacity:1;stroke-miterlimit:10;\" d=\"M 34.320312 41.125 L 36.320312 41.125 \" transform=\"matrix(1,0,0,1,10,15)\"/>\n",
       "<path style=\"fill:none;stroke-width:1;stroke-linecap:butt;stroke-linejoin:miter;stroke:rgb(0%,0%,0%);stroke-opacity:1;stroke-miterlimit:10;\" d=\"M 34.320312 35.25 L 36.320312 35.25 \" transform=\"matrix(1,0,0,1,10,15)\"/>\n",
       "<path style=\"fill:none;stroke-width:1;stroke-linecap:butt;stroke-linejoin:miter;stroke:rgb(0%,0%,0%);stroke-opacity:1;stroke-miterlimit:10;\" d=\"M 34.320312 29.375 L 36.320312 29.375 \" transform=\"matrix(1,0,0,1,10,15)\"/>\n",
       "<path style=\"fill:none;stroke-width:1;stroke-linecap:butt;stroke-linejoin:miter;stroke:rgb(0%,0%,0%);stroke-opacity:1;stroke-miterlimit:10;\" d=\"M 34.320312 23.5 L 36.320312 23.5 \" transform=\"matrix(1,0,0,1,10,15)\"/>\n",
       "<path style=\"fill:none;stroke-width:1;stroke-linecap:butt;stroke-linejoin:miter;stroke:rgb(0%,0%,0%);stroke-opacity:1;stroke-miterlimit:10;\" d=\"M 34.320312 17.625 L 36.320312 17.625 \" transform=\"matrix(1,0,0,1,10,15)\"/>\n",
       "<path style=\"fill:none;stroke-width:1;stroke-linecap:butt;stroke-linejoin:miter;stroke:rgb(0%,0%,0%);stroke-opacity:1;stroke-miterlimit:10;\" d=\"M 34.320312 11.75 L 36.320312 11.75 \" transform=\"matrix(1,0,0,1,10,15)\"/>\n",
       "<path style=\"fill:none;stroke-width:1;stroke-linecap:butt;stroke-linejoin:miter;stroke:rgb(0%,0%,0%);stroke-opacity:1;stroke-miterlimit:10;\" d=\"M 34.320312 5.875 L 36.320312 5.875 \" transform=\"matrix(1,0,0,1,10,15)\"/>\n",
       "<path style=\"fill:none;stroke-width:1;stroke-linecap:butt;stroke-linejoin:miter;stroke:rgb(0%,0%,0%);stroke-opacity:1;stroke-miterlimit:10;\" d=\"M 34.320312 0 L 36.320312 0 \" transform=\"matrix(1,0,0,1,10,15)\"/>\n",
       "<path style=\"fill:none;stroke-width:1;stroke-linecap:butt;stroke-linejoin:miter;stroke:rgb(0%,0%,0%);stroke-opacity:1;stroke-miterlimit:10;\" d=\"M 34.320312 235 L 39.320312 235 \" transform=\"matrix(1,0,0,1,10,15)\"/>\n",
       "<path style=\"fill:none;stroke-width:1;stroke-linecap:butt;stroke-linejoin:miter;stroke:rgb(0%,0%,0%);stroke-opacity:1;stroke-miterlimit:10;\" d=\"M 34.320312 176.25 L 39.320312 176.25 \" transform=\"matrix(1,0,0,1,10,15)\"/>\n",
       "<path style=\"fill:none;stroke-width:1;stroke-linecap:butt;stroke-linejoin:miter;stroke:rgb(0%,0%,0%);stroke-opacity:1;stroke-miterlimit:10;\" d=\"M 34.320312 117.5 L 39.320312 117.5 \" transform=\"matrix(1,0,0,1,10,15)\"/>\n",
       "<path style=\"fill:none;stroke-width:1;stroke-linecap:butt;stroke-linejoin:miter;stroke:rgb(0%,0%,0%);stroke-opacity:1;stroke-miterlimit:10;\" d=\"M 34.320312 58.75 L 39.320312 58.75 \" transform=\"matrix(1,0,0,1,10,15)\"/>\n",
       "<path style=\"fill:none;stroke-width:1;stroke-linecap:butt;stroke-linejoin:miter;stroke:rgb(0%,0%,0%);stroke-opacity:1;stroke-miterlimit:10;\" d=\"M 34.320312 0 L 39.320312 0 \" transform=\"matrix(1,0,0,1,10,15)\"/>\n",
       "<g style=\"fill:rgb(0%,0%,0%);fill-opacity:1;\">\n",
       "  <use xlink:href=\"#glyph-2022-03-2055394.222094s0-1\" x=\"10.035156\" y=\"253.496094\"/>\n",
       "  <use xlink:href=\"#glyph-2022-03-2055394.222094s0-2\" x=\"15.59668\" y=\"253.496094\"/>\n",
       "  <use xlink:href=\"#glyph-2022-03-2055394.222094s0-1\" x=\"18.375\" y=\"253.496094\"/>\n",
       "  <use xlink:href=\"#glyph-2022-03-2055394.222094s0-3\" x=\"23.936523\" y=\"253.496094\"/>\n",
       "  <use xlink:href=\"#glyph-2022-03-2055394.222094s0-1\" x=\"29.498047\" y=\"253.496094\"/>\n",
       "</g>\n",
       "<g style=\"fill:rgb(0%,0%,0%);fill-opacity:1;\">\n",
       "  <use xlink:href=\"#glyph-2022-03-2055394.222094s0-4\" x=\"10.042969\" y=\"194.746094\"/>\n",
       "  <use xlink:href=\"#glyph-2022-03-2055394.222094s0-2\" x=\"15.604492\" y=\"194.746094\"/>\n",
       "  <use xlink:href=\"#glyph-2022-03-2055394.222094s0-1\" x=\"18.382812\" y=\"194.746094\"/>\n",
       "  <use xlink:href=\"#glyph-2022-03-2055394.222094s0-3\" x=\"23.944336\" y=\"194.746094\"/>\n",
       "  <use xlink:href=\"#glyph-2022-03-2055394.222094s0-4\" x=\"29.505859\" y=\"194.746094\"/>\n",
       "</g>\n",
       "<g style=\"fill:rgb(0%,0%,0%);fill-opacity:1;\">\n",
       "  <use xlink:href=\"#glyph-2022-03-2055394.222094s0-5\" x=\"10.644531\" y=\"136.011719\"/>\n",
       "  <use xlink:href=\"#glyph-2022-03-2055394.222094s0-2\" x=\"16.206055\" y=\"136.011719\"/>\n",
       "  <use xlink:href=\"#glyph-2022-03-2055394.222094s0-1\" x=\"18.984375\" y=\"136.011719\"/>\n",
       "  <use xlink:href=\"#glyph-2022-03-2055394.222094s0-3\" x=\"24.545898\" y=\"136.011719\"/>\n",
       "  <use xlink:href=\"#glyph-2022-03-2055394.222094s0-6\" x=\"30.107422\" y=\"136.011719\"/>\n",
       "</g>\n",
       "<g style=\"fill:rgb(0%,0%,0%);fill-opacity:1;\">\n",
       "  <use xlink:href=\"#glyph-2022-03-2055394.222094s0-5\" x=\"10.644531\" y=\"77.261719\"/>\n",
       "  <use xlink:href=\"#glyph-2022-03-2055394.222094s0-2\" x=\"16.206055\" y=\"77.261719\"/>\n",
       "  <use xlink:href=\"#glyph-2022-03-2055394.222094s0-4\" x=\"18.984375\" y=\"77.261719\"/>\n",
       "  <use xlink:href=\"#glyph-2022-03-2055394.222094s0-3\" x=\"24.545898\" y=\"77.261719\"/>\n",
       "  <use xlink:href=\"#glyph-2022-03-2055394.222094s0-6\" x=\"30.107422\" y=\"77.261719\"/>\n",
       "</g>\n",
       "<g style=\"fill:rgb(0%,0%,0%);fill-opacity:1;\">\n",
       "  <use xlink:href=\"#glyph-2022-03-2055394.222094s0-7\" x=\"10\" y=\"18.511719\"/>\n",
       "  <use xlink:href=\"#glyph-2022-03-2055394.222094s0-2\" x=\"15.561523\" y=\"18.511719\"/>\n",
       "  <use xlink:href=\"#glyph-2022-03-2055394.222094s0-1\" x=\"18.339844\" y=\"18.511719\"/>\n",
       "  <use xlink:href=\"#glyph-2022-03-2055394.222094s0-3\" x=\"23.901367\" y=\"18.511719\"/>\n",
       "  <use xlink:href=\"#glyph-2022-03-2055394.222094s0-6\" x=\"29.462891\" y=\"18.511719\"/>\n",
       "</g>\n",
       "<path style=\"fill:none;stroke-width:1;stroke-linecap:square;stroke-linejoin:miter;stroke:rgb(0%,0%,0%);stroke-opacity:1;stroke-miterlimit:10;\" d=\"M -0.000976562 0 L 382.170898 0 \" transform=\"matrix(1,0,0,1,44.321289,250)\"/>\n",
       "<path style=\"fill:none;stroke-width:1;stroke-linecap:butt;stroke-linejoin:miter;stroke:rgb(0%,0%,0%);stroke-opacity:1;stroke-miterlimit:10;\" d=\"M -0.000976562 0 L -0.000976562 -2 \" transform=\"matrix(1,0,0,1,44.321289,250)\"/>\n",
       "<path style=\"fill:none;stroke-width:1;stroke-linecap:butt;stroke-linejoin:miter;stroke:rgb(0%,0%,0%);stroke-opacity:1;stroke-miterlimit:10;\" d=\"M 10.920898 0 L 10.920898 -2 \" transform=\"matrix(1,0,0,1,44.321289,250)\"/>\n",
       "<path style=\"fill:none;stroke-width:1;stroke-linecap:butt;stroke-linejoin:miter;stroke:rgb(0%,0%,0%);stroke-opacity:1;stroke-miterlimit:10;\" d=\"M 21.838867 0 L 21.838867 -2 \" transform=\"matrix(1,0,0,1,44.321289,250)\"/>\n",
       "<path style=\"fill:none;stroke-width:1;stroke-linecap:butt;stroke-linejoin:miter;stroke:rgb(0%,0%,0%);stroke-opacity:1;stroke-miterlimit:10;\" d=\"M 32.756836 0 L 32.756836 -2 \" transform=\"matrix(1,0,0,1,44.321289,250)\"/>\n",
       "<path style=\"fill:none;stroke-width:1;stroke-linecap:butt;stroke-linejoin:miter;stroke:rgb(0%,0%,0%);stroke-opacity:1;stroke-miterlimit:10;\" d=\"M 43.674805 0 L 43.674805 -2 \" transform=\"matrix(1,0,0,1,44.321289,250)\"/>\n",
       "<path style=\"fill:none;stroke-width:1;stroke-linecap:butt;stroke-linejoin:miter;stroke:rgb(0%,0%,0%);stroke-opacity:1;stroke-miterlimit:10;\" d=\"M 54.59668 0 L 54.59668 -2 \" transform=\"matrix(1,0,0,1,44.321289,250)\"/>\n",
       "<path style=\"fill:none;stroke-width:1;stroke-linecap:butt;stroke-linejoin:miter;stroke:rgb(0%,0%,0%);stroke-opacity:1;stroke-miterlimit:10;\" d=\"M 65.514648 0 L 65.514648 -2 \" transform=\"matrix(1,0,0,1,44.321289,250)\"/>\n",
       "<path style=\"fill:none;stroke-width:1;stroke-linecap:butt;stroke-linejoin:miter;stroke:rgb(0%,0%,0%);stroke-opacity:1;stroke-miterlimit:10;\" d=\"M 76.432617 0 L 76.432617 -2 \" transform=\"matrix(1,0,0,1,44.321289,250)\"/>\n",
       "<path style=\"fill:none;stroke-width:1;stroke-linecap:butt;stroke-linejoin:miter;stroke:rgb(0%,0%,0%);stroke-opacity:1;stroke-miterlimit:10;\" d=\"M 87.354492 0 L 87.354492 -2 \" transform=\"matrix(1,0,0,1,44.321289,250)\"/>\n",
       "<path style=\"fill:none;stroke-width:1;stroke-linecap:butt;stroke-linejoin:miter;stroke:rgb(0%,0%,0%);stroke-opacity:1;stroke-miterlimit:10;\" d=\"M 98.272461 0 L 98.272461 -2 \" transform=\"matrix(1,0,0,1,44.321289,250)\"/>\n",
       "<path style=\"fill:none;stroke-width:1;stroke-linecap:butt;stroke-linejoin:miter;stroke:rgb(0%,0%,0%);stroke-opacity:1;stroke-miterlimit:10;\" d=\"M 109.19043 0 L 109.19043 -2 \" transform=\"matrix(1,0,0,1,44.321289,250)\"/>\n",
       "<path style=\"fill:none;stroke-width:1;stroke-linecap:butt;stroke-linejoin:miter;stroke:rgb(0%,0%,0%);stroke-opacity:1;stroke-miterlimit:10;\" d=\"M 120.112305 0 L 120.112305 -2 \" transform=\"matrix(1,0,0,1,44.321289,250)\"/>\n",
       "<path style=\"fill:none;stroke-width:1;stroke-linecap:butt;stroke-linejoin:miter;stroke:rgb(0%,0%,0%);stroke-opacity:1;stroke-miterlimit:10;\" d=\"M 131.030273 0 L 131.030273 -2 \" transform=\"matrix(1,0,0,1,44.321289,250)\"/>\n",
       "<path style=\"fill:none;stroke-width:1;stroke-linecap:butt;stroke-linejoin:miter;stroke:rgb(0%,0%,0%);stroke-opacity:1;stroke-miterlimit:10;\" d=\"M 141.948242 0 L 141.948242 -2 \" transform=\"matrix(1,0,0,1,44.321289,250)\"/>\n",
       "<path style=\"fill:none;stroke-width:1;stroke-linecap:butt;stroke-linejoin:miter;stroke:rgb(0%,0%,0%);stroke-opacity:1;stroke-miterlimit:10;\" d=\"M 152.866211 0 L 152.866211 -2 \" transform=\"matrix(1,0,0,1,44.321289,250)\"/>\n",
       "<path style=\"fill:none;stroke-width:1;stroke-linecap:butt;stroke-linejoin:miter;stroke:rgb(0%,0%,0%);stroke-opacity:1;stroke-miterlimit:10;\" d=\"M 163.788086 0 L 163.788086 -2 \" transform=\"matrix(1,0,0,1,44.321289,250)\"/>\n",
       "<path style=\"fill:none;stroke-width:1;stroke-linecap:butt;stroke-linejoin:miter;stroke:rgb(0%,0%,0%);stroke-opacity:1;stroke-miterlimit:10;\" d=\"M 174.706055 0 L 174.706055 -2 \" transform=\"matrix(1,0,0,1,44.321289,250)\"/>\n",
       "<path style=\"fill:none;stroke-width:1;stroke-linecap:butt;stroke-linejoin:miter;stroke:rgb(0%,0%,0%);stroke-opacity:1;stroke-miterlimit:10;\" d=\"M 185.624023 0 L 185.624023 -2 \" transform=\"matrix(1,0,0,1,44.321289,250)\"/>\n",
       "<path style=\"fill:none;stroke-width:1;stroke-linecap:butt;stroke-linejoin:miter;stroke:rgb(0%,0%,0%);stroke-opacity:1;stroke-miterlimit:10;\" d=\"M 196.545898 0 L 196.545898 -2 \" transform=\"matrix(1,0,0,1,44.321289,250)\"/>\n",
       "<path style=\"fill:none;stroke-width:1;stroke-linecap:butt;stroke-linejoin:miter;stroke:rgb(0%,0%,0%);stroke-opacity:1;stroke-miterlimit:10;\" d=\"M 207.463867 0 L 207.463867 -2 \" transform=\"matrix(1,0,0,1,44.321289,250)\"/>\n",
       "<path style=\"fill:none;stroke-width:1;stroke-linecap:butt;stroke-linejoin:miter;stroke:rgb(0%,0%,0%);stroke-opacity:1;stroke-miterlimit:10;\" d=\"M 218.381836 0 L 218.381836 -2 \" transform=\"matrix(1,0,0,1,44.321289,250)\"/>\n",
       "<path style=\"fill:none;stroke-width:1;stroke-linecap:butt;stroke-linejoin:miter;stroke:rgb(0%,0%,0%);stroke-opacity:1;stroke-miterlimit:10;\" d=\"M 229.303711 0 L 229.303711 -2 \" transform=\"matrix(1,0,0,1,44.321289,250)\"/>\n",
       "<path style=\"fill:none;stroke-width:1;stroke-linecap:butt;stroke-linejoin:miter;stroke:rgb(0%,0%,0%);stroke-opacity:1;stroke-miterlimit:10;\" d=\"M 240.22168 0 L 240.22168 -2 \" transform=\"matrix(1,0,0,1,44.321289,250)\"/>\n",
       "<path style=\"fill:none;stroke-width:1;stroke-linecap:butt;stroke-linejoin:miter;stroke:rgb(0%,0%,0%);stroke-opacity:1;stroke-miterlimit:10;\" d=\"M 251.139648 0 L 251.139648 -2 \" transform=\"matrix(1,0,0,1,44.321289,250)\"/>\n",
       "<path style=\"fill:none;stroke-width:1;stroke-linecap:butt;stroke-linejoin:miter;stroke:rgb(0%,0%,0%);stroke-opacity:1;stroke-miterlimit:10;\" d=\"M 262.061523 0 L 262.061523 -2 \" transform=\"matrix(1,0,0,1,44.321289,250)\"/>\n",
       "<path style=\"fill:none;stroke-width:1;stroke-linecap:butt;stroke-linejoin:miter;stroke:rgb(0%,0%,0%);stroke-opacity:1;stroke-miterlimit:10;\" d=\"M 272.979492 0 L 272.979492 -2 \" transform=\"matrix(1,0,0,1,44.321289,250)\"/>\n",
       "<path style=\"fill:none;stroke-width:1;stroke-linecap:butt;stroke-linejoin:miter;stroke:rgb(0%,0%,0%);stroke-opacity:1;stroke-miterlimit:10;\" d=\"M 283.897461 0 L 283.897461 -2 \" transform=\"matrix(1,0,0,1,44.321289,250)\"/>\n",
       "<path style=\"fill:none;stroke-width:1;stroke-linecap:butt;stroke-linejoin:miter;stroke:rgb(0%,0%,0%);stroke-opacity:1;stroke-miterlimit:10;\" d=\"M 294.81543 0 L 294.81543 -2 \" transform=\"matrix(1,0,0,1,44.321289,250)\"/>\n",
       "<path style=\"fill:none;stroke-width:1;stroke-linecap:butt;stroke-linejoin:miter;stroke:rgb(0%,0%,0%);stroke-opacity:1;stroke-miterlimit:10;\" d=\"M 305.737305 0 L 305.737305 -2 \" transform=\"matrix(1,0,0,1,44.321289,250)\"/>\n",
       "<path style=\"fill:none;stroke-width:1;stroke-linecap:butt;stroke-linejoin:miter;stroke:rgb(0%,0%,0%);stroke-opacity:1;stroke-miterlimit:10;\" d=\"M 316.655273 0 L 316.655273 -2 \" transform=\"matrix(1,0,0,1,44.321289,250)\"/>\n",
       "<path style=\"fill:none;stroke-width:1;stroke-linecap:butt;stroke-linejoin:miter;stroke:rgb(0%,0%,0%);stroke-opacity:1;stroke-miterlimit:10;\" d=\"M 327.573242 0 L 327.573242 -2 \" transform=\"matrix(1,0,0,1,44.321289,250)\"/>\n",
       "<path style=\"fill:none;stroke-width:1;stroke-linecap:butt;stroke-linejoin:miter;stroke:rgb(0%,0%,0%);stroke-opacity:1;stroke-miterlimit:10;\" d=\"M 338.495117 0 L 338.495117 -2 \" transform=\"matrix(1,0,0,1,44.321289,250)\"/>\n",
       "<path style=\"fill:none;stroke-width:1;stroke-linecap:butt;stroke-linejoin:miter;stroke:rgb(0%,0%,0%);stroke-opacity:1;stroke-miterlimit:10;\" d=\"M 349.413086 0 L 349.413086 -2 \" transform=\"matrix(1,0,0,1,44.321289,250)\"/>\n",
       "<path style=\"fill:none;stroke-width:1;stroke-linecap:butt;stroke-linejoin:miter;stroke:rgb(0%,0%,0%);stroke-opacity:1;stroke-miterlimit:10;\" d=\"M 360.331055 0 L 360.331055 -2 \" transform=\"matrix(1,0,0,1,44.321289,250)\"/>\n",
       "<path style=\"fill:none;stroke-width:1;stroke-linecap:butt;stroke-linejoin:miter;stroke:rgb(0%,0%,0%);stroke-opacity:1;stroke-miterlimit:10;\" d=\"M 371.25293 0 L 371.25293 -2 \" transform=\"matrix(1,0,0,1,44.321289,250)\"/>\n",
       "<path style=\"fill:none;stroke-width:1;stroke-linecap:butt;stroke-linejoin:miter;stroke:rgb(0%,0%,0%);stroke-opacity:1;stroke-miterlimit:10;\" d=\"M 382.170898 0 L 382.170898 -2 \" transform=\"matrix(1,0,0,1,44.321289,250)\"/>\n",
       "<path style=\"fill:none;stroke-width:1;stroke-linecap:butt;stroke-linejoin:miter;stroke:rgb(0%,0%,0%);stroke-opacity:1;stroke-miterlimit:10;\" d=\"M -0.000976562 0 L -0.000976562 -5 \" transform=\"matrix(1,0,0,1,44.321289,250)\"/>\n",
       "<path style=\"fill:none;stroke-width:1;stroke-linecap:butt;stroke-linejoin:miter;stroke:rgb(0%,0%,0%);stroke-opacity:1;stroke-miterlimit:10;\" d=\"M 54.59668 0 L 54.59668 -5 \" transform=\"matrix(1,0,0,1,44.321289,250)\"/>\n",
       "<path style=\"fill:none;stroke-width:1;stroke-linecap:butt;stroke-linejoin:miter;stroke:rgb(0%,0%,0%);stroke-opacity:1;stroke-miterlimit:10;\" d=\"M 109.19043 0 L 109.19043 -5 \" transform=\"matrix(1,0,0,1,44.321289,250)\"/>\n",
       "<path style=\"fill:none;stroke-width:1;stroke-linecap:butt;stroke-linejoin:miter;stroke:rgb(0%,0%,0%);stroke-opacity:1;stroke-miterlimit:10;\" d=\"M 163.788086 0 L 163.788086 -5 \" transform=\"matrix(1,0,0,1,44.321289,250)\"/>\n",
       "<path style=\"fill:none;stroke-width:1;stroke-linecap:butt;stroke-linejoin:miter;stroke:rgb(0%,0%,0%);stroke-opacity:1;stroke-miterlimit:10;\" d=\"M 218.381836 0 L 218.381836 -5 \" transform=\"matrix(1,0,0,1,44.321289,250)\"/>\n",
       "<path style=\"fill:none;stroke-width:1;stroke-linecap:butt;stroke-linejoin:miter;stroke:rgb(0%,0%,0%);stroke-opacity:1;stroke-miterlimit:10;\" d=\"M 272.979492 0 L 272.979492 -5 \" transform=\"matrix(1,0,0,1,44.321289,250)\"/>\n",
       "<path style=\"fill:none;stroke-width:1;stroke-linecap:butt;stroke-linejoin:miter;stroke:rgb(0%,0%,0%);stroke-opacity:1;stroke-miterlimit:10;\" d=\"M 327.573242 0 L 327.573242 -5 \" transform=\"matrix(1,0,0,1,44.321289,250)\"/>\n",
       "<path style=\"fill:none;stroke-width:1;stroke-linecap:butt;stroke-linejoin:miter;stroke:rgb(0%,0%,0%);stroke-opacity:1;stroke-miterlimit:10;\" d=\"M 382.170898 0 L 382.170898 -5 \" transform=\"matrix(1,0,0,1,44.321289,250)\"/>\n",
       "<g style=\"fill:rgb(0%,0%,0%);fill-opacity:1;\">\n",
       "  <use xlink:href=\"#glyph-2022-03-2055394.222094s0-1\" x=\"41.910156\" y=\"267.699219\"/>\n",
       "</g>\n",
       "<g style=\"fill:rgb(0%,0%,0%);fill-opacity:1;\">\n",
       "  <use xlink:href=\"#glyph-2022-03-2055394.222094s0-5\" x=\"85.703125\" y=\"267.699219\"/>\n",
       "  <use xlink:href=\"#glyph-2022-03-2055394.222094s0-1\" x=\"91.264648\" y=\"267.699219\"/>\n",
       "  <use xlink:href=\"#glyph-2022-03-2055394.222094s0-1\" x=\"96.826172\" y=\"267.699219\"/>\n",
       "  <use xlink:href=\"#glyph-2022-03-2055394.222094s0-1\" x=\"102.387695\" y=\"267.699219\"/>\n",
       "  <use xlink:href=\"#glyph-2022-03-2055394.222094s0-1\" x=\"107.949219\" y=\"267.699219\"/>\n",
       "</g>\n",
       "<g style=\"fill:rgb(0%,0%,0%);fill-opacity:1;\">\n",
       "  <use xlink:href=\"#glyph-2022-03-2055394.222094s0-7\" x=\"139.976562\" y=\"267.699219\"/>\n",
       "  <use xlink:href=\"#glyph-2022-03-2055394.222094s0-1\" x=\"145.538086\" y=\"267.699219\"/>\n",
       "  <use xlink:href=\"#glyph-2022-03-2055394.222094s0-1\" x=\"151.099609\" y=\"267.699219\"/>\n",
       "  <use xlink:href=\"#glyph-2022-03-2055394.222094s0-1\" x=\"156.661133\" y=\"267.699219\"/>\n",
       "  <use xlink:href=\"#glyph-2022-03-2055394.222094s0-1\" x=\"162.222656\" y=\"267.699219\"/>\n",
       "</g>\n",
       "<g style=\"fill:rgb(0%,0%,0%);fill-opacity:1;\">\n",
       "  <use xlink:href=\"#glyph-2022-03-2055394.222094s0-8\" x=\"194.535156\" y=\"267.699219\"/>\n",
       "  <use xlink:href=\"#glyph-2022-03-2055394.222094s0-1\" x=\"200.09668\" y=\"267.699219\"/>\n",
       "  <use xlink:href=\"#glyph-2022-03-2055394.222094s0-1\" x=\"205.658203\" y=\"267.699219\"/>\n",
       "  <use xlink:href=\"#glyph-2022-03-2055394.222094s0-1\" x=\"211.219727\" y=\"267.699219\"/>\n",
       "  <use xlink:href=\"#glyph-2022-03-2055394.222094s0-1\" x=\"216.78125\" y=\"267.699219\"/>\n",
       "</g>\n",
       "<g style=\"fill:rgb(0%,0%,0%);fill-opacity:1;\">\n",
       "  <use xlink:href=\"#glyph-2022-03-2055394.222094s0-9\" x=\"249.140625\" y=\"267.699219\"/>\n",
       "  <use xlink:href=\"#glyph-2022-03-2055394.222094s0-1\" x=\"254.702148\" y=\"267.699219\"/>\n",
       "  <use xlink:href=\"#glyph-2022-03-2055394.222094s0-1\" x=\"260.263672\" y=\"267.699219\"/>\n",
       "  <use xlink:href=\"#glyph-2022-03-2055394.222094s0-1\" x=\"265.825195\" y=\"267.699219\"/>\n",
       "  <use xlink:href=\"#glyph-2022-03-2055394.222094s0-1\" x=\"271.386719\" y=\"267.699219\"/>\n",
       "</g>\n",
       "<g style=\"fill:rgb(0%,0%,0%);fill-opacity:1;\">\n",
       "  <use xlink:href=\"#glyph-2022-03-2055394.222094s0-4\" x=\"303.769531\" y=\"267.699219\"/>\n",
       "  <use xlink:href=\"#glyph-2022-03-2055394.222094s0-1\" x=\"309.331055\" y=\"267.699219\"/>\n",
       "  <use xlink:href=\"#glyph-2022-03-2055394.222094s0-1\" x=\"314.892578\" y=\"267.699219\"/>\n",
       "  <use xlink:href=\"#glyph-2022-03-2055394.222094s0-1\" x=\"320.454102\" y=\"267.699219\"/>\n",
       "  <use xlink:href=\"#glyph-2022-03-2055394.222094s0-1\" x=\"326.015625\" y=\"267.699219\"/>\n",
       "</g>\n",
       "<g style=\"fill:rgb(0%,0%,0%);fill-opacity:1;\">\n",
       "  <use xlink:href=\"#glyph-2022-03-2055394.222094s0-6\" x=\"358.390625\" y=\"267.699219\"/>\n",
       "  <use xlink:href=\"#glyph-2022-03-2055394.222094s0-1\" x=\"363.952148\" y=\"267.699219\"/>\n",
       "  <use xlink:href=\"#glyph-2022-03-2055394.222094s0-1\" x=\"369.513672\" y=\"267.699219\"/>\n",
       "  <use xlink:href=\"#glyph-2022-03-2055394.222094s0-1\" x=\"375.075195\" y=\"267.699219\"/>\n",
       "  <use xlink:href=\"#glyph-2022-03-2055394.222094s0-1\" x=\"380.636719\" y=\"267.699219\"/>\n",
       "</g>\n",
       "<g style=\"fill:rgb(0%,0%,0%);fill-opacity:1;\">\n",
       "  <use xlink:href=\"#glyph-2022-03-2055394.222094s0-10\" x=\"412.984375\" y=\"267.699219\"/>\n",
       "  <use xlink:href=\"#glyph-2022-03-2055394.222094s0-1\" x=\"418.545898\" y=\"267.699219\"/>\n",
       "  <use xlink:href=\"#glyph-2022-03-2055394.222094s0-1\" x=\"424.107422\" y=\"267.699219\"/>\n",
       "  <use xlink:href=\"#glyph-2022-03-2055394.222094s0-1\" x=\"429.668945\" y=\"267.699219\"/>\n",
       "  <use xlink:href=\"#glyph-2022-03-2055394.222094s0-1\" x=\"435.230469\" y=\"267.699219\"/>\n",
       "</g>\n",
       "<path style=\"fill:none;stroke-width:1;stroke-linecap:round;stroke-linejoin:round;stroke:rgb(0%,0%,100%);stroke-opacity:1;stroke-miterlimit:10;\" d=\"M 0 5 L 20 5 \" transform=\"matrix(1,0,0,1,10,280)\"/>\n",
       "<g style=\"fill:rgb(0%,0%,0%);fill-opacity:1;\">\n",
       "  <use xlink:href=\"#glyph-2022-03-2055394.222094s0-11\" x=\"36.296875\" y=\"287.699219\"/>\n",
       "  <use xlink:href=\"#glyph-2022-03-2055394.222094s0-3\" x=\"42.966797\" y=\"287.699219\"/>\n",
       "  <use xlink:href=\"#glyph-2022-03-2055394.222094s0-12\" x=\"48.52832\" y=\"287.699219\"/>\n",
       "  <use xlink:href=\"#glyph-2022-03-2055394.222094s0-13\" x=\"53.52832\" y=\"287.699219\"/>\n",
       "  <use xlink:href=\"#glyph-2022-03-2055394.222094s0-14\" x=\"56.306641\" y=\"287.699219\"/>\n",
       "  <use xlink:href=\"#glyph-2022-03-2055394.222094s0-15\" x=\"59.084961\" y=\"287.699219\"/>\n",
       "  <use xlink:href=\"#glyph-2022-03-2055394.222094s0-16\" x=\"64.646484\" y=\"287.699219\"/>\n",
       "  <use xlink:href=\"#glyph-2022-03-2055394.222094s0-14\" x=\"67.424805\" y=\"287.699219\"/>\n",
       "  <use xlink:href=\"#glyph-2022-03-2055394.222094s0-17\" x=\"70.203125\" y=\"287.699219\"/>\n",
       "  <use xlink:href=\"#glyph-2022-03-2055394.222094s0-18\" x=\"75.764648\" y=\"287.699219\"/>\n",
       "  <use xlink:href=\"#glyph-2022-03-2055394.222094s0-18\" x=\"77.986328\" y=\"287.699219\"/>\n",
       "</g>\n",
       "</g>\n",
       "</svg>\n"
      ]
     },
     "metadata": {},
     "output_type": "display_data"
    }
   ],
   "source": [
    "inx = testVal\n",
    "res = bfEachBest fma mem inx\n",
    "\n",
    "res\n",
    "\n",
    "display.toRenderable.execEC $ plotRecs \"Best of all\" res\n"
   ]
  },
  {
   "cell_type": "markdown",
   "id": "33e3b1e7",
   "metadata": {},
   "source": [
    "# Dynamic Program"
   ]
  },
  {
   "cell_type": "code",
   "execution_count": 158,
   "id": "a71b6d82",
   "metadata": {},
   "outputs": [
    {
     "data": {
      "text/latex": [
       "\\[\\left(\\dot{{F}_{3}}\\cdot{}\\left(\\dot{{F}_{2}}\\cdot{}\\left(\\dot{{F}_{1}}\\cdot{}I\\right)\\right)\\right)\\]"
      ]
     },
     "metadata": {},
     "output_type": "display_data"
    },
    {
     "data": {
      "text/html": [
       "<style>/* Styles used for the Hoogle display in the pager */\n",
       ".hoogle-doc {\n",
       "display: block;\n",
       "padding-bottom: 1.3em;\n",
       "padding-left: 0.4em;\n",
       "}\n",
       ".hoogle-code {\n",
       "display: block;\n",
       "font-family: monospace;\n",
       "white-space: pre;\n",
       "}\n",
       ".hoogle-text {\n",
       "display: block;\n",
       "}\n",
       ".hoogle-name {\n",
       "color: green;\n",
       "font-weight: bold;\n",
       "}\n",
       ".hoogle-head {\n",
       "font-weight: bold;\n",
       "}\n",
       ".hoogle-sub {\n",
       "display: block;\n",
       "margin-left: 0.4em;\n",
       "}\n",
       ".hoogle-package {\n",
       "font-weight: bold;\n",
       "font-style: italic;\n",
       "}\n",
       ".hoogle-module {\n",
       "font-weight: bold;\n",
       "}\n",
       ".hoogle-class {\n",
       "font-weight: bold;\n",
       "}\n",
       ".get-type {\n",
       "color: green;\n",
       "font-weight: bold;\n",
       "font-family: monospace;\n",
       "display: block;\n",
       "white-space: pre-wrap;\n",
       "}\n",
       ".show-type {\n",
       "color: green;\n",
       "font-weight: bold;\n",
       "font-family: monospace;\n",
       "margin-left: 1em;\n",
       "}\n",
       ".mono {\n",
       "font-family: monospace;\n",
       "display: block;\n",
       "}\n",
       ".err-msg {\n",
       "color: red;\n",
       "font-style: italic;\n",
       "font-family: monospace;\n",
       "white-space: pre;\n",
       "display: block;\n",
       "}\n",
       "#unshowable {\n",
       "color: red;\n",
       "font-weight: bold;\n",
       "}\n",
       ".err-msg.in.collapse {\n",
       "padding-top: 0.7em;\n",
       "}\n",
       ".highlight-code {\n",
       "white-space: pre;\n",
       "font-family: monospace;\n",
       "}\n",
       ".suggestion-warning { \n",
       "font-weight: bold;\n",
       "color: rgb(200, 130, 0);\n",
       "}\n",
       ".suggestion-error { \n",
       "font-weight: bold;\n",
       "color: red;\n",
       "}\n",
       ".suggestion-name {\n",
       "font-weight: bold;\n",
       "}\n",
       "</style><span class='get-type'>unwrapFDesc :: forall a. CompDescription a => a -> NonEmpty FDesc'</span>"
      ],
      "text/plain": [
       "unwrapFDesc :: forall a. CompDescription a => a -> NonEmpty FDesc'"
      ]
     },
     "metadata": {},
     "output_type": "display_data"
    }
   ],
   "source": [
    "testVal = zipFChain [8,1,4,1] $ [16,16,100]\n",
    "\n",
    "withPlaceholders $ homTangent (toList $ unwrapFDesc testVal)\n",
    "\n",
    ":type unwrapFDesc\n",
    "\n",
    "mem :: FuncDescription a => Bracketing a -> Integer\n",
    "mem Start = 0\n",
    "mem (Tangent f Start) = inDim f\n",
    "mem (Tangent f other) = mem other\n",
    "mem (Adjoint Start f) = outDim f + edgeCount f\n",
    "mem (Adjoint other f) = mem other + edgeCount f\n",
    "mem (Preacc lhs rhs) = max (mem lhs) (mem rhs) + outDim lhs * inDim rhs\n",
    "\n",
    "splitEach :: [a] -> [([a], [a])]\n",
    "splitEach [] = []\n",
    "splitEach [_] = []\n",
    "splitEach xs = fmap (`splitAt` xs) [1..length xs-1]"
   ]
  },
  {
   "cell_type": "code",
   "execution_count": 159,
   "id": "13de2bf2",
   "metadata": {
    "scrolled": true
   },
   "outputs": [
    {
     "data": {
      "text/latex": [
       "\\[\\left(\\left(\\left(I\\cdot{}\\overline{F:{\\mathbb{R}}^{4}\\xrightarrow[100]{}{\\mathbb{R}}^{1}}\\right)\\cdot{}\\overline{F:{\\mathbb{R}}^{1}\\xrightarrow[16]{}{\\mathbb{R}}^{4}}\\right)\\cdot{}\\overline{F:{\\mathbb{R}}^{8}\\xrightarrow[16]{}{\\mathbb{R}}^{1}}\\right)\\]"
      ]
     },
     "metadata": {},
     "output_type": "display_data"
    },
    {
     "data": {
      "text/latex": [
       "\\[\\left(\\left(\\dot{{F}_{3}}\\cdot{}\\left(\\dot{{F}_{2}}\\cdot{}I\\right)\\right)\\cdot{}\\overline{{F}_{1}}\\right)\\mathsf{, fma=}132\\mathsf{, mem=}17\\]"
      ]
     },
     "metadata": {},
     "output_type": "display_data"
    },
    {
     "data": {
      "text/latex": [
       "\\[\\left(\\dot{F:{\\mathbb{R}}^{4}\\xrightarrow[100]{}{\\mathbb{R}}^{1}}\\cdot{}\\left(I\\cdot{}\\overline{F:{\\mathbb{R}}^{8}\\xrightarrow[16]{}{\\mathbb{R}}^{1}}\\right)\\right)\\]"
      ]
     },
     "metadata": {},
     "output_type": "display_data"
    },
    {
     "data": {
      "text/plain": [
       "816"
      ]
     },
     "metadata": {},
     "output_type": "display_data"
    },
    {
     "data": {
      "text/plain": [
       "17"
      ]
     },
     "metadata": {},
     "output_type": "display_data"
    }
   ],
   "source": [
    "dpFmaNaive :: CompDescription a => a -> Integer\n",
    "dpFmaNaive input = dp 1 (length xs)\n",
    "    where xs = toList $ unwrapFDesc input\n",
    "          n i = inDim $ xs !! (i - 1)\n",
    "          m i = outDim $ xs !! (i - 1)\n",
    "          e i = edgeCount $ xs !! (i - 1)\n",
    "          dp j i | j == i    = min (n i) (m j) * e i\n",
    "                 | j < i     = dp i j\n",
    "                 | otherwise = minimum $ concat [ dpCases j i k | k <- [i..j-1]]\n",
    "          dpCases j i k = [ dp j (k+1) + dp k i + m j * m k * n i,\n",
    "                            dp j (k+1) + m j * sum [e nu | nu <- [i..k]],\n",
    "                            dp k i     + n i * sum [e nu | nu <- [k+1..j]]\n",
    "                            ]\n",
    "\n",
    "dpFmaNaive' :: CompDescription a => a -> Bracketing'\n",
    "dpFmaNaive' input = dp (toList $ unwrapFDesc input)\n",
    "    where -- xs = toList $ unwrapFDesc input\n",
    "          minFma :: [Bracketing'] -> Bracketing'\n",
    "          minFma xs = minimumBy (\\x y -> fma x `compare` fma y) xs\n",
    "          dp :: [FDesc'] -> Bracketing'\n",
    "          dp []  = Start\n",
    "          dp [x] = minFma [homTangent [x], homAdjoint [x]]\n",
    "          dp xs = minFma $ concat [dpCases l r | (l,r) <- splitEach xs]\n",
    "          dpCases :: [FDesc'] -> [FDesc'] -> [Bracketing']\n",
    "          dpCases l r = [ Preacc (dp r) (dp l),\n",
    "                          homTangent r <> dp l,\n",
    "                          dp r <> homAdjoint l]\n",
    "\n",
    "------------------------------------------------------------------------------------------------\n",
    "\n",
    "\n",
    "filtMinFma :: Integer -> [Bracketing'] -> Maybe Bracketing'\n",
    "filtMinFma c = minFma.filt c\n",
    "    where minFma :: [Bracketing'] -> Maybe Bracketing'\n",
    "          minFma [] = Nothing\n",
    "          minFma xs = Just $ minimumBy (\\x y -> fma x `compare` fma y) xs\n",
    "\n",
    "          filt :: Integer -> [Bracketing'] -> [Bracketing']\n",
    "          filt c = filter (\\x -> mem x < c)\n",
    "\n",
    "dp :: Integer -> [FDesc'] -> Maybe Bracketing'\n",
    "dp c []  = Just Start\n",
    "dp c [x] = filtMinFma c [homTangent [x], homAdjoint [x]]\n",
    "dp c xs  = filtMinFma c (concatMap (dpCases c) (splitEach xs))\n",
    "\n",
    "dpCases :: Integer -> ([FDesc'], [FDesc']) -> [Bracketing']\n",
    "dpCases c (l,r) = [preaccCase c l r, tangentCase c l r, adjointCase c l r] >>= maybeToList\n",
    "\n",
    "preaccCase :: Integer -> [FDesc'] -> [FDesc'] -> Maybe Bracketing'\n",
    "preaccCase c l r = do\n",
    "  let newConstraint = c - outDim (head l) * inDim (last r)\n",
    "  lb <- dp newConstraint l\n",
    "  rb <- dp newConstraint r\n",
    "  return $ Preacc rb lb\n",
    "\n",
    "tangentCase :: Integer -> [FDesc'] -> [FDesc'] -> Maybe Bracketing'\n",
    "tangentCase c l r = do\n",
    "  dl <- dp c l\n",
    "  return $ homTangent r <> dl\n",
    "\n",
    "adjointCase :: Integer -> [FDesc'] -> [FDesc'] -> Maybe Bracketing'\n",
    "adjointCase c l r = do\n",
    "  let dl = homAdjoint l\n",
    "  let newConstraint = c - mem dl\n",
    "  dr <- dp newConstraint r\n",
    "  return $ dr <> dl\n",
    "\n",
    "dpFmaMemNaive' :: CompDescription a => Integer -> a -> Maybe Bracketing'\n",
    "dpFmaMemNaive' c input = dp c (toList $ unwrapFDesc input)\n",
    "\n",
    "xs = toList $ unwrapFDesc testVal\n",
    "\n",
    "x1 = head xs\n",
    "x2 = last xs\n",
    "\n",
    "res = fromJust $ adjointCase 30 [x1] [x2]\n",
    "\n",
    "dpFmaNaive' testVal\n",
    "\n",
    "fromJust $ bfBest fma mem Nothing testVal\n",
    "\n",
    "res\n",
    "fma res\n",
    "mem res\n",
    "\n",
    "-- bfEachBest fma mem testVal"
   ]
  }
 ],
 "metadata": {
  "kernelspec": {
   "display_name": "Haskell",
   "language": "haskell",
   "name": "haskell"
  },
  "language_info": {
   "codemirror_mode": "ihaskell",
   "file_extension": ".hs",
   "mimetype": "text/x-haskell",
   "name": "haskell",
   "pygments_lexer": "Haskell",
   "version": "8.10.7"
  }
 },
 "nbformat": 4,
 "nbformat_minor": 5
}
