{
 "cells": [
  {
   "cell_type": "code",
   "execution_count": 21,
   "id": "b4a5e6e7",
   "metadata": {},
   "outputs": [],
   "source": [
    "import Text.LaTeX\n",
    "import Text.LaTeX.Packages.AMSFonts\n",
    "{-# LANGUAGE OverloadedStrings, TypeApplications #-}"
   ]
  },
  {
   "cell_type": "code",
   "execution_count": 22,
   "id": "27d3769c",
   "metadata": {},
   "outputs": [
    {
     "data": {
      "text/latex": [
       "$x^2 + y$"
      ]
     },
     "metadata": {},
     "output_type": "display_data"
    }
   ],
   "source": [
    "math @LaTeX (raw \"x^2 + y\")"
   ]
  },
  {
   "cell_type": "code",
   "execution_count": 24,
   "id": "122eaaf9",
   "metadata": {},
   "outputs": [
    {
     "data": {
      "text/latex": [
       "$\\mathbb{A}$"
      ]
     },
     "metadata": {},
     "output_type": "display_data"
    }
   ],
   "source": [
    "math @LaTeX $ mathbb \"A\""
   ]
  }
 ],
 "metadata": {
  "kernelspec": {
   "display_name": "Haskell",
   "language": "haskell",
   "name": "haskell"
  },
  "language_info": {
   "codemirror_mode": "ihaskell",
   "file_extension": ".hs",
   "mimetype": "text/x-haskell",
   "name": "haskell",
   "pygments_lexer": "Haskell",
   "version": "8.10.7"
  }
 },
 "nbformat": 4,
 "nbformat_minor": 5
}
